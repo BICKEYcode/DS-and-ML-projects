{
 "cells": [
  {
   "cell_type": "code",
   "execution_count": 4,
   "id": "8173c1c6-1286-4745-9909-81ae316d08a1",
   "metadata": {},
   "outputs": [
    {
     "name": "stdout",
     "output_type": "stream",
     "text": [
      "[0, 1, 1, 2, 3, 5, 8, 13, 21, 34]\n"
     ]
    }
   ],
   "source": [
    "def fibonacci(n):\n",
    "    if n == 0:\n",
    "        return 0\n",
    "    elif n == 1:\n",
    "        return 1\n",
    "    else:\n",
    "        return fibonacci(n-1) + fibonacci(n-2)\n",
    "def fibonacci_sequence(num_terms):\n",
    "    return [fibonacci(i) for i in range(num_terms)]\n",
    "res = fibonacci(5)\n",
    "print(fibonacci_sequence(10))"
   ]
  },
  {
   "cell_type": "code",
   "execution_count": null,
   "id": "53089f8d-3dad-4697-b9f1-f4b4b808d9f7",
   "metadata": {},
   "outputs": [],
   "source": [
    "lamda argument:expression\n"
   ]
  },
  {
   "cell_type": "code",
   "execution_count": 6,
   "id": "3639a190-1f73-4699-905e-15c426dbb076",
   "metadata": {},
   "outputs": [
    {
     "name": "stdout",
     "output_type": "stream",
     "text": [
      "7\n"
     ]
    }
   ],
   "source": [
    "sum = lambda a , b : a + b\n",
    "res = sum(3,4)\n",
    "print(res)\n"
   ]
  },
  {
   "cell_type": "code",
   "execution_count": 8,
   "id": "baaeed86-700f-4454-9bce-4c75afeb4457",
   "metadata": {},
   "outputs": [
    {
     "name": "stdout",
     "output_type": "stream",
     "text": [
      "40\n"
     ]
    }
   ],
   "source": [
    "area = lambda l,b,h : 2*h*(l+b)\n",
    "res=area(2,3,4)\n",
    "print(res)"
   ]
  },
  {
   "cell_type": "code",
   "execution_count": null,
   "id": "6279a8ea-7b0e-405d-b9fc-459ee04056bc",
   "metadata": {},
   "outputs": [],
   "source": [
    "Map function map()\n",
    "syntax:\n",
    "map(function,iterable)\n"
   ]
  },
  {
   "cell_type": "code",
   "execution_count": 10,
   "id": "55f5aa05-cfd6-4bc1-96fd-a51d28d794a8",
   "metadata": {},
   "outputs": [
    {
     "name": "stdout",
     "output_type": "stream",
     "text": [
      "[2, 4, 6, 10]\n"
     ]
    }
   ],
   "source": [
    "my_list = [1,2,3,5]\n",
    "map_obj= list(map_obj(lambda x : x*2,my_list))\n",
    "print(map_obj)\n"
   ]
  },
  {
   "cell_type": "code",
   "execution_count": null,
   "id": "a5bc1fd4-a2e6-4470-9738-1fdca456bc01",
   "metadata": {},
   "outputs": [],
   "source": [
    "reduce function( reduce() )\n",
    "syntax:\n",
    "reduce(function,iterable,initializer)\n"
   ]
  },
  {
   "cell_type": "code",
   "execution_count": 11,
   "id": "b6f63657-c59d-49a8-a8f8-43cfdb8e480f",
   "metadata": {},
   "outputs": [
    {
     "name": "stdout",
     "output_type": "stream",
     "text": [
      "1200\n"
     ]
    }
   ],
   "source": [
    "from functools import reduce\n",
    "my_list = [1,2,3,4,5]\n",
    "initial_value = 10\n",
    "product = reduce(lambda x,y : x* y,my_list,initial_value)\n",
    "print(product)"
   ]
  },
  {
   "cell_type": "code",
   "execution_count": null,
   "id": "5d294419-55c0-4b54-9eb7-d776e3b98cd7",
   "metadata": {},
   "outputs": [],
   "source": [
    "Class and Object\n"
   ]
  },
  {
   "cell_type": "code",
   "execution_count": 17,
   "id": "13f05b13-54ce-44b3-87c9-eac27a5acb0e",
   "metadata": {},
   "outputs": [
    {
     "ename": "NameError",
     "evalue": "name 'n1' is not defined",
     "output_type": "error",
     "traceback": [
      "\u001b[1;31m---------------------------------------------------------------------------\u001b[0m",
      "\u001b[1;31mNameError\u001b[0m                                 Traceback (most recent call last)",
      "Cell \u001b[1;32mIn[17], line 1\u001b[0m\n\u001b[1;32m----> 1\u001b[0m \u001b[38;5;28;43;01mclass\u001b[39;49;00m\u001b[43m \u001b[49m\u001b[38;5;21;43;01mCalculator\u001b[39;49;00m\u001b[43m:\u001b[49m\n\u001b[0;32m      2\u001b[0m \u001b[43m    \u001b[49m\u001b[38;5;28;43;01mdef\u001b[39;49;00m\u001b[43m \u001b[49m\u001b[38;5;21;43m__init__\u001b[39;49m\u001b[43m(\u001b[49m\u001b[38;5;28;43mself\u001b[39;49m\u001b[43m,\u001b[49m\u001b[43mn1\u001b[49m\u001b[43m,\u001b[49m\u001b[43mn2\u001b[49m\u001b[43m)\u001b[49m\u001b[43m:\u001b[49m\n\u001b[0;32m      3\u001b[0m \u001b[43m        \u001b[49m\u001b[38;5;28;43mself\u001b[39;49m\u001b[38;5;241;43m.\u001b[39;49m\u001b[43mn1\u001b[49m\u001b[43m \u001b[49m\u001b[38;5;241;43m=\u001b[39;49m\u001b[43m \u001b[49m\u001b[43mn1\u001b[49m\n",
      "Cell \u001b[1;32mIn[17], line 9\u001b[0m, in \u001b[0;36mCalculator\u001b[1;34m()\u001b[0m\n\u001b[0;32m      6\u001b[0m     \u001b[38;5;28;01mreturn\u001b[39;00m \u001b[38;5;28mself\u001b[39m\u001b[38;5;241m.\u001b[39mn1 \u001b[38;5;241m+\u001b[39m \u001b[38;5;28mself\u001b[39m\u001b[38;5;241m.\u001b[39mn2\n\u001b[0;32m      8\u001b[0m obj \u001b[38;5;241m=\u001b[39m Calculator(\u001b[38;5;241m3\u001b[39m,\u001b[38;5;241m5\u001b[39m)\n\u001b[1;32m----> 9\u001b[0m \u001b[43mobj\u001b[49m\u001b[38;5;241;43m.\u001b[39;49m\u001b[43msum\u001b[49m\u001b[43m(\u001b[49m\u001b[43m)\u001b[49m\n",
      "Cell \u001b[1;32mIn[14], line 6\u001b[0m, in \u001b[0;36mCalculator.sum\u001b[1;34m(self)\u001b[0m\n\u001b[0;32m      5\u001b[0m \u001b[38;5;28;01mdef\u001b[39;00m \u001b[38;5;21msum\u001b[39m(\u001b[38;5;28mself\u001b[39m):\n\u001b[1;32m----> 6\u001b[0m     \u001b[38;5;28;01mreturn\u001b[39;00m \u001b[43mn1\u001b[49m \u001b[38;5;241m+\u001b[39m n2\n\u001b[0;32m      8\u001b[0m     obj \u001b[38;5;241m=\u001b[39m Calculator(\u001b[38;5;241m3\u001b[39m,\u001b[38;5;241m5\u001b[39m)\n\u001b[0;32m      9\u001b[0m     obj\u001b[38;5;241m.\u001b[39msum()\n",
      "\u001b[1;31mNameError\u001b[0m: name 'n1' is not defined"
     ]
    }
   ],
   "source": [
    "class Calculator:\n",
    "    def __init__(self,n1,n2):\n",
    "        self.n1 = n1\n",
    "        self.n2 = n2\n",
    "    def sum(self):\n",
    "        return self.n1 + self.n2\n",
    "        \n",
    "    obj = Calculator(3,5)\n",
    "    obj.sum()\n",
    "   "
   ]
  },
  {
   "cell_type": "code",
   "execution_count": null,
   "id": "cea666a6-e98b-49fe-9d6b-ac7020c5cd63",
   "metadata": {},
   "outputs": [],
   "source": []
  },
  {
   "cell_type": "code",
   "execution_count": null,
   "id": "9111eaa8-e53e-4248-b2b3-9e61f95469b7",
   "metadata": {},
   "outputs": [],
   "source": []
  },
  {
   "cell_type": "code",
   "execution_count": null,
   "id": "68fc4d0b-9489-4d05-a8a2-e4f12579e207",
   "metadata": {},
   "outputs": [],
   "source": []
  }
 ],
 "metadata": {
  "kernelspec": {
   "display_name": "Python 3 (ipykernel)",
   "language": "python",
   "name": "python3"
  },
  "language_info": {
   "codemirror_mode": {
    "name": "ipython",
    "version": 3
   },
   "file_extension": ".py",
   "mimetype": "text/x-python",
   "name": "python",
   "nbconvert_exporter": "python",
   "pygments_lexer": "ipython3",
   "version": "3.12.1"
  }
 },
 "nbformat": 4,
 "nbformat_minor": 5
}
