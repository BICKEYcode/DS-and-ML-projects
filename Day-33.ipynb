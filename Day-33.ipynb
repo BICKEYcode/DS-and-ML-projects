{
 "cells": [
  {
   "cell_type": "code",
   "execution_count": 1,
   "id": "b44ca200-b049-43b1-beca-4e9064241a3d",
   "metadata": {},
   "outputs": [
    {
     "name": "stdout",
     "output_type": "stream",
     "text": [
      "Collecting scikit-learn\n",
      "  Downloading scikit_learn-1.5.2-cp312-cp312-win_amd64.whl.metadata (13 kB)\n",
      "Requirement already satisfied: numpy>=1.19.5 in c:\\users\\hi\\desktop\\mlprojects\\bickey's code\\ds-and-ml-projects\\myenv\\lib\\site-packages (from scikit-learn) (2.1.1)\n",
      "Collecting scipy>=1.6.0 (from scikit-learn)\n",
      "  Downloading scipy-1.14.1-cp312-cp312-win_amd64.whl.metadata (60 kB)\n",
      "Collecting joblib>=1.2.0 (from scikit-learn)\n",
      "  Downloading joblib-1.4.2-py3-none-any.whl.metadata (5.4 kB)\n",
      "Collecting threadpoolctl>=3.1.0 (from scikit-learn)\n",
      "  Downloading threadpoolctl-3.5.0-py3-none-any.whl.metadata (13 kB)\n",
      "Downloading scikit_learn-1.5.2-cp312-cp312-win_amd64.whl (11.0 MB)\n",
      "   ---------------------------------------- 0.0/11.0 MB ? eta -:--:--\n",
      "   - -------------------------------------- 0.5/11.0 MB 4.2 MB/s eta 0:00:03\n",
      "   ----------- ---------------------------- 3.1/11.0 MB 9.7 MB/s eta 0:00:01\n",
      "   -------------------- ------------------- 5.8/11.0 MB 11.0 MB/s eta 0:00:01\n",
      "   ---------------------------- ----------- 7.9/11.0 MB 12.5 MB/s eta 0:00:01\n",
      "   ---------------------------------------- 11.0/11.0 MB 12.7 MB/s eta 0:00:00\n",
      "Downloading joblib-1.4.2-py3-none-any.whl (301 kB)\n",
      "Downloading scipy-1.14.1-cp312-cp312-win_amd64.whl (44.5 MB)\n",
      "   ---------------------------------------- 0.0/44.5 MB ? eta -:--:--\n",
      "   --- ------------------------------------ 3.7/44.5 MB 18.2 MB/s eta 0:00:03\n",
      "   ------ --------------------------------- 6.8/44.5 MB 16.8 MB/s eta 0:00:03\n",
      "   -------- ------------------------------- 9.4/44.5 MB 15.5 MB/s eta 0:00:03\n",
      "   ---------- ----------------------------- 11.5/44.5 MB 14.7 MB/s eta 0:00:03\n",
      "   ------------ --------------------------- 13.4/44.5 MB 13.5 MB/s eta 0:00:03\n",
      "   ------------- -------------------------- 14.9/44.5 MB 12.5 MB/s eta 0:00:03\n",
      "   -------------- ------------------------- 16.0/44.5 MB 11.7 MB/s eta 0:00:03\n",
      "   --------------- ------------------------ 17.0/44.5 MB 10.6 MB/s eta 0:00:03\n",
      "   ---------------- ----------------------- 18.1/44.5 MB 9.8 MB/s eta 0:00:03\n",
      "   ---------------- ----------------------- 18.9/44.5 MB 9.4 MB/s eta 0:00:03\n",
      "   ----------------- ---------------------- 19.9/44.5 MB 8.9 MB/s eta 0:00:03\n",
      "   ------------------ --------------------- 20.7/44.5 MB 8.6 MB/s eta 0:00:03\n",
      "   ------------------- -------------------- 21.8/44.5 MB 8.3 MB/s eta 0:00:03\n",
      "   -------------------- ------------------- 22.8/44.5 MB 8.0 MB/s eta 0:00:03\n",
      "   --------------------- ------------------ 23.9/44.5 MB 7.8 MB/s eta 0:00:03\n",
      "   ---------------------- ----------------- 24.9/44.5 MB 7.7 MB/s eta 0:00:03\n",
      "   ----------------------- ---------------- 25.7/44.5 MB 7.5 MB/s eta 0:00:03\n",
      "   ------------------------ --------------- 26.7/44.5 MB 7.4 MB/s eta 0:00:03\n",
      "   ------------------------ --------------- 27.8/44.5 MB 7.2 MB/s eta 0:00:03\n",
      "   ------------------------- -------------- 28.8/44.5 MB 7.1 MB/s eta 0:00:03\n",
      "   -------------------------- ------------- 29.9/44.5 MB 7.1 MB/s eta 0:00:03\n",
      "   --------------------------- ------------ 30.9/44.5 MB 7.0 MB/s eta 0:00:02\n",
      "   ---------------------------- ----------- 32.0/44.5 MB 6.9 MB/s eta 0:00:02\n",
      "   ----------------------------- ---------- 33.0/44.5 MB 6.8 MB/s eta 0:00:02\n",
      "   ------------------------------ --------- 34.1/44.5 MB 6.8 MB/s eta 0:00:02\n",
      "   ------------------------------- -------- 35.4/44.5 MB 6.7 MB/s eta 0:00:02\n",
      "   -------------------------------- ------- 36.4/44.5 MB 6.7 MB/s eta 0:00:02\n",
      "   --------------------------------- ------ 37.5/44.5 MB 6.6 MB/s eta 0:00:02\n",
      "   ---------------------------------- ----- 38.5/44.5 MB 6.6 MB/s eta 0:00:01\n",
      "   ----------------------------------- ---- 39.6/44.5 MB 6.5 MB/s eta 0:00:01\n",
      "   ------------------------------------ --- 40.6/44.5 MB 6.5 MB/s eta 0:00:01\n",
      "   ------------------------------------- -- 41.7/44.5 MB 6.4 MB/s eta 0:00:01\n",
      "   -------------------------------------- - 42.7/44.5 MB 6.4 MB/s eta 0:00:01\n",
      "   ---------------------------------------  43.8/44.5 MB 6.4 MB/s eta 0:00:01\n",
      "   ---------------------------------------  44.3/44.5 MB 6.3 MB/s eta 0:00:01\n",
      "   ---------------------------------------- 44.5/44.5 MB 6.3 MB/s eta 0:00:00\n",
      "Downloading threadpoolctl-3.5.0-py3-none-any.whl (18 kB)\n",
      "Installing collected packages: threadpoolctl, scipy, joblib, scikit-learn\n",
      "Successfully installed joblib-1.4.2 scikit-learn-1.5.2 scipy-1.14.1 threadpoolctl-3.5.0\n"
     ]
    }
   ],
   "source": [
    "!pip install scikit-learn\n"
   ]
  },
  {
   "cell_type": "code",
   "execution_count": null,
   "id": "25446575-e49a-4716-be94-dba75a2f99ac",
   "metadata": {},
   "outputs": [],
   "source": []
  }
 ],
 "metadata": {
  "kernelspec": {
   "display_name": "Python 3 (ipykernel)",
   "language": "python",
   "name": "python3"
  },
  "language_info": {
   "codemirror_mode": {
    "name": "ipython",
    "version": 3
   },
   "file_extension": ".py",
   "mimetype": "text/x-python",
   "name": "python",
   "nbconvert_exporter": "python",
   "pygments_lexer": "ipython3",
   "version": "3.12.1"
  }
 },
 "nbformat": 4,
 "nbformat_minor": 5
}
