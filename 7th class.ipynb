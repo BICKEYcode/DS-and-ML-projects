{
 "cells": [
  {
   "cell_type": "code",
   "execution_count": 2,
   "id": "38a77346-ee08-451d-b602-c6b396e5ba61",
   "metadata": {},
   "outputs": [
    {
     "name": "stdout",
     "output_type": "stream",
     "text": [
      "hello\n"
     ]
    }
   ],
   "source": [
    "print(\"hello\")\n"
   ]
  },
  {
   "cell_type": "code",
   "execution_count": 3,
   "id": "ecb9f6c9-bd17-472d-9fe2-778cf4c50ab1",
   "metadata": {},
   "outputs": [
    {
     "name": "stdout",
     "output_type": "stream",
     "text": [
      "{1: 1, 3: 9, 5: 25}\n"
     ]
    }
   ],
   "source": [
    "numbers = {1,2,3,4,5}\n",
    "odd_dict = { num:num**2 \n",
    "for num in numbers\n",
    "    if num%2 != 0}\n",
    "print(odd_dict)"
   ]
  },
  {
   "cell_type": "code",
   "execution_count": 5,
   "id": "e3db1ee7-1005-4785-b509-4dca2e6364b3",
   "metadata": {},
   "outputs": [
    {
     "name": "stdout",
     "output_type": "stream",
     "text": [
      "{'l': 2, 'e': 1, 'h': 1, 'o': 1}\n"
     ]
    }
   ],
   "source": [
    "word = 'hello'\n",
    "letter_counts = {letter:word.count(letter) for letter in set(word)}\n",
    "print(letter_counts)"
   ]
  },
  {
   "cell_type": "code",
   "execution_count": 9,
   "id": "b2f33790-5144-4c67-9aec-c1f44f228048",
   "metadata": {},
   "outputs": [
    {
     "name": "stdout",
     "output_type": "stream",
     "text": [
      "{'Dictionary': 10, 'comprehensions': 14, 'nested,': 7, 'allowing': 8, 'create': 6, 'complex': 7, 'dictionaries.': 13, 'example': 7, 'creates': 7, 'dictionary': 10, 'letter': 6, 'counts': 6}\n"
     ]
    }
   ],
   "source": [
    "words = ['Dictionary', 'comprehensions', 'can', 'also', 'be', 'nested,', 'allowing', 'you', 'to', 'create', 'more', 'complex', 'dictionaries.', 'Here', 'is', 'an', 'example', 'that', 'creates', 'a', 'dictionary', 'of', 'letter','counts']\n",
    "dict_count ={data:len(data) for data in words if len(data)>=5}\n",
    "print(dict_count)"
   ]
  },
  {
   "cell_type": "code",
   "execution_count": null,
   "id": "cfcd7c6d-41f6-4829-84c2-79a688b26226",
   "metadata": {},
   "outputs": [],
   "source": [
    "def read_file(path):\n",
    "    file = read(path)\n",
    "    return file\n",
    "    "
   ]
  },
  {
   "cell_type": "code",
   "execution_count": 11,
   "id": "5e0e3f10-19ed-48b1-81f4-c0afa3cc34b3",
   "metadata": {},
   "outputs": [
    {
     "name": "stdout",
     "output_type": "stream",
     "text": [
      "hello\n",
      "bickey\n"
     ]
    }
   ],
   "source": [
    "print(\"hello\",end = \"\\n\")\n",
    "print(\"bickey\")"
   ]
  },
  {
   "cell_type": "code",
   "execution_count": 12,
   "id": "5c5afd64-bb25-4a33-9fbd-3c8b5aceb285",
   "metadata": {},
   "outputs": [
    {
     "name": "stdout",
     "output_type": "stream",
     "text": [
      "<class 'int'>\n"
     ]
    }
   ],
   "source": [
    "print(type(2))"
   ]
  },
  {
   "cell_type": "code",
   "execution_count": 13,
   "id": "77db11b3-c19a-4644-b750-458e8468886b",
   "metadata": {},
   "outputs": [
    {
     "name": "stdin",
     "output_type": "stream",
     "text": [
      "abc hi\n"
     ]
    }
   ],
   "source": [
    "num = input(\"abc\")"
   ]
  },
  {
   "cell_type": "code",
   "execution_count": 14,
   "id": "09ccf9c7-e6c7-4552-972b-d59e2bf00052",
   "metadata": {},
   "outputs": [
    {
     "name": "stdin",
     "output_type": "stream",
     "text": [
      "Enter your age : 20\n"
     ]
    },
    {
     "name": "stdout",
     "output_type": "stream",
     "text": [
      "20\n"
     ]
    }
   ],
   "source": [
    "age = int(input(\"Enter your age :\"))\n",
    "print(age)"
   ]
  },
  {
   "cell_type": "code",
   "execution_count": null,
   "id": "b466b4f2-dff9-4786-9e3c-11db3c67eb2e",
   "metadata": {},
   "outputs": [],
   "source": []
  }
 ],
 "metadata": {
  "kernelspec": {
   "display_name": "Python 3 (ipykernel)",
   "language": "python",
   "name": "python3"
  },
  "language_info": {
   "codemirror_mode": {
    "name": "ipython",
    "version": 3
   },
   "file_extension": ".py",
   "mimetype": "text/x-python",
   "name": "python",
   "nbconvert_exporter": "python",
   "pygments_lexer": "ipython3",
   "version": "3.12.1"
  }
 },
 "nbformat": 4,
 "nbformat_minor": 5
}
