{
 "cells": [
  {
   "cell_type": "code",
   "execution_count": 24,
   "id": "8e4d0c58-b288-4955-9c98-20c26fca40db",
   "metadata": {},
   "outputs": [
    {
     "data": {
      "text/plain": [
       "3.1622776601683795"
      ]
     },
     "execution_count": 24,
     "metadata": {},
     "output_type": "execute_result"
    }
   ],
   "source": [
    "import math\n",
    "def standard_dev(num):\n",
    "\n",
    "    n = len(num)\n",
    "\n",
    "    total = sum(num)\n",
    "\n",
    "    mean = total/n\n",
    "\n",
    "    _sum = 0\n",
    "\n",
    "    for x in num:\n",
    "\n",
    "        y = (x - mean) ** 2\n",
    "\n",
    "        _sum = _sum +y\n",
    "\n",
    "    res = _sum/n\n",
    "\n",
    "    std_dev = math.sqrt(res)\n",
    "\n",
    "   \n",
    "\n",
    "    return std_dev\n",
    "\n",
    "standard_dev ([1,2,3,4,5,6,7,8,9,10,11])"
   ]
  },
  {
   "cell_type": "code",
   "execution_count": null,
   "id": "2ac7c0fc-8d65-4844-be33-0de070374851",
   "metadata": {},
   "outputs": [],
   "source": []
  },
  {
   "cell_type": "code",
   "execution_count": null,
   "id": "c1b2154d-dcc1-43bb-8bb3-7e8f0175ac34",
   "metadata": {},
   "outputs": [],
   "source": []
  },
  {
   "cell_type": "code",
   "execution_count": 16,
   "id": "f0a4806f-9ee7-41c1-a7af-33a1593ec2aa",
   "metadata": {},
   "outputs": [
    {
     "data": {
      "text/plain": [
       "'hello book : Book is not available'"
      ]
     },
     "execution_count": 16,
     "metadata": {},
     "output_type": "execute_result"
    }
   ],
   "source": [
    "books = [ \n",
    "    (\"The Alchemist\", 25),\n",
    "    (\"The Da Vinci Code\", 30),\n",
    "    (\"A Brief History of Time\", 15),\n",
    "    (\"Angels & Demons\", 0),\n",
    "    (\"The Grand Design\", 0),\n",
    "    (\"1984\", 19)\n",
    "]\n",
    "class Library:\n",
    "    st_count = 0\n",
    "    def __init__(self,st_name,dept = \"Computer science\"):\n",
    "        self.st_name = st_name\n",
    "        self.dept = dept\n",
    "        Library.st_count += 1\n",
    "    def can_borrow(self,book_name):\n",
    "        book_found = False\n",
    "        for st_name,qt in books:\n",
    "            if (book_name == st_name) and (qt > 0):\n",
    "                book_found = True\n",
    "        if book_found:    \n",
    "            return f\"{book_name} : Book is available\"\n",
    "        else:\n",
    "            return f\"{book_name} : Book is not available\"\n",
    "    @classmethod\n",
    "    def get_student_count(cls):\n",
    "        return cls.st_count\n",
    "\n",
    "student1 = Library(st_name = \"Nabin\")\n",
    "student2 = Library(st_name = \"jack\" , dept = \"Pharmacy\")\n",
    "student1.can_borrow(\"hello book\")\n",
    "    \n",
    "        "
   ]
  },
  {
   "cell_type": "code",
   "execution_count": 15,
   "id": "4c9a2efd-ee0e-4c21-86e8-d1bdf1090a7b",
   "metadata": {},
   "outputs": [
    {
     "data": {
      "text/plain": [
       "'The Alchemist : Book is available'"
      ]
     },
     "execution_count": 15,
     "metadata": {},
     "output_type": "execute_result"
    }
   ],
   "source": [
    "student1.can_borrow(\" hello book\")\n",
    "student2.can_borrow(\"The Alchemist\")"
   ]
  },
  {
   "cell_type": "code",
   "execution_count": 25,
   "id": "3b15b21e-1a78-4f78-92f7-6a0e85ba4e3b",
   "metadata": {},
   "outputs": [],
   "source": [
    "class Example:\n",
    "    def add(self, *args):\n",
    "        if len(args) ==1:\n",
    "            return args[0]\n",
    "        elif len(args) == 2:\n",
    "            return args[0] + args[1]         "
   ]
  },
  {
   "cell_type": "code",
   "execution_count": 23,
   "id": "8a1394bd-73cb-4ca3-a123-5d879e4ca44d",
   "metadata": {},
   "outputs": [
    {
     "name": "stdout",
     "output_type": "stream",
     "text": [
      "My name is baby\n"
     ]
    }
   ],
   "source": [
    "class Animal:\n",
    "    def __init__(self,name,age):\n",
    "        self.name=name\n",
    "        self.age = age\n",
    "    def intro(self):\n",
    "        print(f\"My name is {self.name}\")\n",
    "class Cat(Animal):\n",
    "    def __init__(self,name,age,color):\n",
    "        super().__init__(name,age)\n",
    "        self.color=color\n",
    "    def speak(self):\n",
    "        print(\"meow\")\n",
    "        \n",
    "my_cat = Cat(\"baby\",3,\"white\")\n",
    "my_cat.intro()\n",
    "        "
   ]
  },
  {
   "cell_type": "code",
   "execution_count": null,
   "id": "7ad75aa6-2bd6-4cf4-bc88-315ac7d69ad3",
   "metadata": {},
   "outputs": [],
   "source": []
  },
  {
   "cell_type": "code",
   "execution_count": null,
   "id": "668ccb63-cd0a-42b5-b673-d632251673af",
   "metadata": {},
   "outputs": [],
   "source": []
  }
 ],
 "metadata": {
  "kernelspec": {
   "display_name": "Python 3 (ipykernel)",
   "language": "python",
   "name": "python3"
  },
  "language_info": {
   "codemirror_mode": {
    "name": "ipython",
    "version": 3
   },
   "file_extension": ".py",
   "mimetype": "text/x-python",
   "name": "python",
   "nbconvert_exporter": "python",
   "pygments_lexer": "ipython3",
   "version": "3.12.1"
  }
 },
 "nbformat": 4,
 "nbformat_minor": 5
}
