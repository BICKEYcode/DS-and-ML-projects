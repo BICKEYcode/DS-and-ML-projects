{
 "cells": [
  {
   "cell_type": "code",
   "execution_count": 3,
   "id": "d7be14c5-1c2a-45d4-87b0-48d9a4cc1a4b",
   "metadata": {},
   "outputs": [
    {
     "name": "stdout",
     "output_type": "stream",
     "text": [
      "getting name\n",
      "bickey\n"
     ]
    }
   ],
   "source": [
    "class Person:\n",
    "    def __init__(self,name):\n",
    "        self.__name = name\n",
    "    @property\n",
    "    def name (self):\n",
    "        print (\"getting name\")\n",
    "        return self.__name\n",
    "\n",
    "person = Person(\"bickey\")\n",
    "print(person.name)"
   ]
  },
  {
   "cell_type": "code",
   "execution_count": null,
   "id": "915f34fd-3cf2-4de2-b7ae-2dc50f026593",
   "metadata": {},
   "outputs": [],
   "source": [
    " @name.setter\n",
    "    def name(self,value):\n",
    "        print(\"setting name\")\n",
    "        self.name = value\n",
    "\n",
    "person.name= \"bickey\""
   ]
  },
  {
   "cell_type": "code",
   "execution_count": 4,
   "id": "37bcf1ba-12ae-4cac-9809-121ec07661ee",
   "metadata": {},
   "outputs": [
    {
     "name": "stdout",
     "output_type": "stream",
     "text": [
      "Getting name...\n",
      "Alice\n"
     ]
    }
   ],
   "source": [
    "class Person:\n",
    "    def __init__(self, name):\n",
    "        self._name = name\n",
    "\n",
    "    @property\n",
    "    def name(self):\n",
    "        print(\"Getting name...\")\n",
    "        return self._name\n",
    "\n",
    "    @name.setter\n",
    "    def name(self, value):\n",
    "        print(\"Setting name...\")\n",
    "        self._name = value\n",
    "\n",
    "person = Person(\"Alice\")\n",
    "print(person.name)"
   ]
  },
  {
   "cell_type": "code",
   "execution_count": 5,
   "id": "a24e1873-410a-43da-ac3e-e8587faf376a",
   "metadata": {},
   "outputs": [
    {
     "name": "stdout",
     "output_type": "stream",
     "text": [
      "Getting name...\n",
      "Alice\n"
     ]
    }
   ],
   "source": [
    "class Person:\n",
    "    def __init__(self, name):\n",
    "        self._name = name\n",
    "\n",
    "\n",
    "    @property\n",
    "    def name(self):\n",
    "        print(\"Getting name...\")\n",
    "        return self._name\n",
    "\n",
    "    @name.setter\n",
    "    def name(self, value):\n",
    "        print(\"Setting name...\")\n",
    "        self._name = value\n",
    "\n",
    "    @name.deleter\n",
    "    def name(self):\n",
    "        print(\"Deleting name...\")\n",
    "        del self._name\n",
    "\n",
    "person = Person(\"Alice\")\n",
    "print(person.name)"
   ]
  },
  {
   "cell_type": "code",
   "execution_count": 6,
   "id": "15b89be0-f696-4497-a912-25844707cd40",
   "metadata": {},
   "outputs": [
    {
     "name": "stdout",
     "output_type": "stream",
     "text": [
      "Deleting name...\n"
     ]
    }
   ],
   "source": [
    "del person.name"
   ]
  },
  {
   "cell_type": "markdown",
   "id": "507082b1-92df-4f25-8809-4b89b44fd5be",
   "metadata": {},
   "source": [
    "## Iiterator"
   ]
  },
  {
   "cell_type": "code",
   "execution_count": 7,
   "id": "744e3f49-d7b2-4c7e-9bf1-b9950b9ade9c",
   "metadata": {},
   "outputs": [
    {
     "name": "stdout",
     "output_type": "stream",
     "text": [
      "0\n",
      "1\n",
      "1\n",
      "2\n",
      "3\n",
      "5\n",
      "8\n"
     ]
    }
   ],
   "source": [
    "class Fibonacci:\n",
    "    def __init__(self, limit):\n",
    "        self.limit = limit\n",
    "        self.current = 0\n",
    "        self.next = 1\n",
    "\n",
    "    def __iter__(self):\n",
    "        return self\n",
    "\n",
    "    def __next__(self):\n",
    "        if self.current >= self.limit:\n",
    "            raise StopIteration\n",
    "\n",
    "        result = self.current\n",
    "        self.current, self.next = self.next, self.current + self.next\n",
    "        return result\n",
    "fib = Fibonacci(10)\n",
    "for num in fib:\n",
    "    print(num)"
   ]
  },
  {
   "cell_type": "markdown",
   "id": "1cec404e-e630-4f41-80d4-235ff4001f96",
   "metadata": {},
   "source": [
    "# Python Generators \n",
    "A generator in Python is a type of iterator that generates values on-the-fly as they are requested. This means that generators are a more memory-efficient way of generating large sequences of values, as they only generate the values as they are needed, rather than generating them all at once and storing them in memory.\n",
    "\n",
    "Here's a step-by-step tutorial on how to create and use generators in Python:\n",
    "\n",
    "## Step 1: Define a generator function using the yield keyword\n",
    "A generator function is a special type of function that uses the yield keyword to generate values. The yield keyword suspends the function's execution and returns a value to the caller, but it also remembers the function's state so that it can resume execution where it left off the next time it is called.\n",
    "\n",
    "For example, here's a simple generator function that generates a sequence of numbers:"
   ]
  },
  {
   "cell_type": "code",
   "execution_count": 9,
   "id": "55d577fd-3c56-4b0b-8ec3-9489a472e433",
   "metadata": {},
   "outputs": [],
   "source": [
    "def number_generator(start, end):\n",
    "    for num in range(start, end + 1):\n",
    "        yield num"
   ]
  },
  {
   "cell_type": "code",
   "execution_count": null,
   "id": "526a00c9-2f70-4171-a63a-190667695ad0",
   "metadata": {},
   "outputs": [],
   "source": []
  },
  {
   "cell_type": "code",
   "execution_count": null,
   "id": "1168b128-9c05-4f6c-8835-91186ab83eb2",
   "metadata": {},
   "outputs": [],
   "source": [
    "def is_prime(n):\n",
    "    if n <= 1:\n",
    "        return False\n",
    "    for i in range(2, int(n**0.5) + 1):\n",
    "        if n % i == 0:\n",
    "            return False\n",
    "    return True\n",
    "\n",
    "def prime_generator(limit):\n",
    "    primes = []\n",
    "    for num in range(2, limit + 1):\n",
    "        if is_prime(num):\n",
    "            primes.append(num)\n",
    "    return primes\n",
    "\n",
    "# Example usage\n",
    "limit = int(input(\"Enter the upper limit to generate prime numbers: \"))\n",
    "prime_numbers = generate_primes(limit)\n",
    "print(f\"Prime numbers up to {limit}: {prime_numbers}\")\n"
   ]
  },
  {
   "cell_type": "code",
   "execution_count": null,
   "id": "f89a78f7-fbfc-4ca1-9bef-15a0cb91d508",
   "metadata": {},
   "outputs": [],
   "source": [
    "\n"
   ]
  },
  {
   "cell_type": "code",
   "execution_count": 15,
   "id": "18bbe7ce-298d-4969-98fa-e6b1d04d1dd4",
   "metadata": {},
   "outputs": [
    {
     "ename": "NameError",
     "evalue": "name 'prime_numbers' is not defined",
     "output_type": "error",
     "traceback": [
      "\u001b[1;31m---------------------------------------------------------------------------\u001b[0m",
      "\u001b[1;31mNameError\u001b[0m                                 Traceback (most recent call last)",
      "Cell \u001b[1;32mIn[15], line 21\u001b[0m\n\u001b[0;32m     19\u001b[0m             \u001b[38;5;28;01myield\u001b[39;00m num\n\u001b[0;32m     20\u001b[0m         num \u001b[38;5;241m+\u001b[39m\u001b[38;5;241m=\u001b[39m \u001b[38;5;241m1\u001b[39m\n\u001b[1;32m---> 21\u001b[0m primes \u001b[38;5;241m=\u001b[39m \u001b[43mprime_numbers\u001b[49m()\n\u001b[0;32m     23\u001b[0m \u001b[38;5;28;01mfor\u001b[39;00m i \u001b[38;5;129;01min\u001b[39;00m \u001b[38;5;28mrange\u001b[39m(\u001b[38;5;241m10\u001b[39m): \n\u001b[0;32m     24\u001b[0m     \u001b[38;5;28mprint\u001b[39m(\u001b[38;5;28mnext\u001b[39m(primes))\n",
      "\u001b[1;31mNameError\u001b[0m: name 'prime_numbers' is not defined"
     ]
    }
   ],
   "source": [
    "def is_prime(num):\n",
    "    flag = False\n",
    "    if num == 0 or num == 1:\n",
    "        flag = False\n",
    "\n",
    "    elif num > 1:\n",
    "        # check for factors\n",
    "        for i in range(2, num):\n",
    "            if (num % i) == 0:\n",
    "                # if factor is found, set flag to True\n",
    "                flag = True\n",
    "                # break out of loop\n",
    "                break\n",
    "    return flag\n",
    "    def prime_numbers():\n",
    "        num = 2\n",
    "    while True:\n",
    "        if is_prime(num):\n",
    "            yield num\n",
    "        num += 1\n",
    "primes = prime_numbers()\n",
    "\n",
    "for i in range(10): \n",
    "    print(next(primes))"
   ]
  },
  {
   "cell_type": "code",
   "execution_count": 16,
   "id": "d91782f8-e302-44d9-9d0b-4cb21c32d644",
   "metadata": {},
   "outputs": [],
   "source": [
    "def is_prime(num):\n",
    "    flag = False\n",
    "    if num == 0 or num == 1:\n",
    "        flag = False\n",
    "\n",
    "    elif num > 1:\n",
    "        # check for factors\n",
    "        for i in range(2, num):\n",
    "            if (num % i) == 0:\n",
    "                # if factor is found, set flag to True\n",
    "                flag = True\n",
    "                # break out of loop\n",
    "                break\n",
    "    return flag\n",
    "\n",
    "def prime_number():\n",
    "    n = 2\n",
    "    while True:\n",
    "        if not is_prime(n):\n",
    "            yield n\n",
    "            \n",
    "        n += 1\n",
    "\n",
    "prime = prime_number()"
   ]
  },
  {
   "cell_type": "code",
   "execution_count": null,
   "id": "5a0494a0-0b45-48f9-8b8b-b374e6eabf84",
   "metadata": {},
   "outputs": [],
   "source": []
  }
 ],
 "metadata": {
  "kernelspec": {
   "display_name": "Python 3 (ipykernel)",
   "language": "python",
   "name": "python3"
  },
  "language_info": {
   "codemirror_mode": {
    "name": "ipython",
    "version": 3
   },
   "file_extension": ".py",
   "mimetype": "text/x-python",
   "name": "python",
   "nbconvert_exporter": "python",
   "pygments_lexer": "ipython3",
   "version": "3.12.1"
  }
 },
 "nbformat": 4,
 "nbformat_minor": 5
}
