{
 "cells": [
  {
   "cell_type": "code",
   "execution_count": 18,
   "id": "e09d4fb2-ce4b-421e-af38-4e01c1b07a0e",
   "metadata": {},
   "outputs": [],
   "source": [
    "import pandas as pd\n",
    "import matplotlib.pyplot as plt"
   ]
  },
  {
   "cell_type": "code",
   "execution_count": 9,
   "id": "205db823-3583-41ab-a99d-b91186bb46fb",
   "metadata": {},
   "outputs": [
    {
     "data": {
      "text/html": [
       "<div>\n",
       "<style scoped>\n",
       "    .dataframe tbody tr th:only-of-type {\n",
       "        vertical-align: middle;\n",
       "    }\n",
       "\n",
       "    .dataframe tbody tr th {\n",
       "        vertical-align: top;\n",
       "    }\n",
       "\n",
       "    .dataframe thead th {\n",
       "        text-align: right;\n",
       "    }\n",
       "</style>\n",
       "<table border=\"1\" class=\"dataframe\">\n",
       "  <thead>\n",
       "    <tr style=\"text-align: right;\">\n",
       "      <th></th>\n",
       "      <th>timestamp</th>\n",
       "      <th>sex</th>\n",
       "      <th>matric_gpa_%</th>\n",
       "      <th>study_year</th>\n",
       "      <th>faculty</th>\n",
       "      <th>gpa_%_2023</th>\n",
       "      <th>accommodation_status</th>\n",
       "      <th>monthly_allowance</th>\n",
       "      <th>scholarship</th>\n",
       "      <th>study_hours_week</th>\n",
       "      <th>socialising_week</th>\n",
       "      <th>drinks_night</th>\n",
       "      <th>classes_missed</th>\n",
       "      <th>modules_failed</th>\n",
       "      <th>in_relationship</th>\n",
       "      <th>parental_approval</th>\n",
       "      <th>relationship_parents</th>\n",
       "    </tr>\n",
       "  </thead>\n",
       "  <tbody>\n",
       "    <tr>\n",
       "      <th>0</th>\n",
       "      <td>Timestamp</td>\n",
       "      <td>Your Sex?</td>\n",
       "      <td>Your Matric (grade 12) Average/ GPA (in %)</td>\n",
       "      <td>What year were you in last year (2023) ?</td>\n",
       "      <td>What faculty does your degree fall under?</td>\n",
       "      <td>Your 2023 academic year average/GPA in % (Igno...</td>\n",
       "      <td>Your Accommodation Status Last Year (2023)</td>\n",
       "      <td>Monthly Allowance in 2023</td>\n",
       "      <td>Were you on scholarship/bursary in 2023?</td>\n",
       "      <td>Additional amount of studying (in hrs) per week</td>\n",
       "      <td>How often do you go out partying/socialising d...</td>\n",
       "      <td>On a night out, how many alcoholic drinks do y...</td>\n",
       "      <td>How many classes do you miss per week due to a...</td>\n",
       "      <td>How many modules have you failed thus far into...</td>\n",
       "      <td>Are you currently in a romantic relationship?</td>\n",
       "      <td>Do your parents approve alcohol consumption?</td>\n",
       "      <td>How strong is your relationship with your pare...</td>\n",
       "    </tr>\n",
       "    <tr>\n",
       "      <th>1</th>\n",
       "      <td>2024/03/07 5:12:01 pm EET</td>\n",
       "      <td>Female</td>\n",
       "      <td>76</td>\n",
       "      <td>2nd Year</td>\n",
       "      <td>Arts &amp; Social Sciences</td>\n",
       "      <td>72</td>\n",
       "      <td>Private accommodation/ stay with family/friends</td>\n",
       "      <td>R 4001- R 5000</td>\n",
       "      <td>No</td>\n",
       "      <td>8+</td>\n",
       "      <td>Only weekends</td>\n",
       "      <td>8+</td>\n",
       "      <td>3</td>\n",
       "      <td>0</td>\n",
       "      <td>Yes</td>\n",
       "      <td>Yes</td>\n",
       "      <td>Very close</td>\n",
       "    </tr>\n",
       "    <tr>\n",
       "      <th>2</th>\n",
       "      <td>2024/03/07 5:12:08 pm EET</td>\n",
       "      <td>Male</td>\n",
       "      <td>89</td>\n",
       "      <td>2nd Year</td>\n",
       "      <td>Economic &amp; Management Sciences</td>\n",
       "      <td>75</td>\n",
       "      <td>Private accommodation/ stay with family/friends</td>\n",
       "      <td>R 7001 - R 8000</td>\n",
       "      <td>Yes (NSFAS, etc...)</td>\n",
       "      <td>8+</td>\n",
       "      <td>Only weekends</td>\n",
       "      <td>3-5</td>\n",
       "      <td>4+</td>\n",
       "      <td>0</td>\n",
       "      <td>No</td>\n",
       "      <td>Yes</td>\n",
       "      <td>Very close</td>\n",
       "    </tr>\n",
       "    <tr>\n",
       "      <th>3</th>\n",
       "      <td>2024/03/07 5:12:25 pm EET</td>\n",
       "      <td>Male</td>\n",
       "      <td>76</td>\n",
       "      <td>1st Year</td>\n",
       "      <td>AgriSciences</td>\n",
       "      <td>55</td>\n",
       "      <td>Private accommodation/ stay with family/friends</td>\n",
       "      <td>R 4001- R 5000</td>\n",
       "      <td>No</td>\n",
       "      <td>3-5</td>\n",
       "      <td>2</td>\n",
       "      <td>8+</td>\n",
       "      <td>3</td>\n",
       "      <td>0</td>\n",
       "      <td>No</td>\n",
       "      <td>Yes</td>\n",
       "      <td>Very close</td>\n",
       "    </tr>\n",
       "    <tr>\n",
       "      <th>4</th>\n",
       "      <td>2024/03/07 5:12:28 pm EET</td>\n",
       "      <td>Male</td>\n",
       "      <td>89</td>\n",
       "      <td>2nd Year</td>\n",
       "      <td>Engineering</td>\n",
       "      <td>84</td>\n",
       "      <td>Private accommodation/ stay with family/friends</td>\n",
       "      <td>R 6001 - R 7000</td>\n",
       "      <td>No</td>\n",
       "      <td>3-5</td>\n",
       "      <td>3</td>\n",
       "      <td>8+</td>\n",
       "      <td>2</td>\n",
       "      <td>0</td>\n",
       "      <td>Yes</td>\n",
       "      <td>Yes</td>\n",
       "      <td>Very close</td>\n",
       "    </tr>\n",
       "  </tbody>\n",
       "</table>\n",
       "</div>"
      ],
      "text/plain": [
       "                   timestamp        sex  \\\n",
       "0                  Timestamp  Your Sex?   \n",
       "1  2024/03/07 5:12:01 pm EET     Female   \n",
       "2  2024/03/07 5:12:08 pm EET       Male   \n",
       "3  2024/03/07 5:12:25 pm EET       Male   \n",
       "4  2024/03/07 5:12:28 pm EET       Male   \n",
       "\n",
       "                                 matric_gpa_%  \\\n",
       "0  Your Matric (grade 12) Average/ GPA (in %)   \n",
       "1                                          76   \n",
       "2                                          89   \n",
       "3                                          76   \n",
       "4                                          89   \n",
       "\n",
       "                                 study_year  \\\n",
       "0  What year were you in last year (2023) ?   \n",
       "1                                  2nd Year   \n",
       "2                                  2nd Year   \n",
       "3                                  1st Year   \n",
       "4                                  2nd Year   \n",
       "\n",
       "                                     faculty  \\\n",
       "0  What faculty does your degree fall under?   \n",
       "1                     Arts & Social Sciences   \n",
       "2             Economic & Management Sciences   \n",
       "3                               AgriSciences   \n",
       "4                                Engineering   \n",
       "\n",
       "                                          gpa_%_2023  \\\n",
       "0  Your 2023 academic year average/GPA in % (Igno...   \n",
       "1                                                 72   \n",
       "2                                                 75   \n",
       "3                                                 55   \n",
       "4                                                 84   \n",
       "\n",
       "                              accommodation_status          monthly_allowance  \\\n",
       "0       Your Accommodation Status Last Year (2023)  Monthly Allowance in 2023   \n",
       "1  Private accommodation/ stay with family/friends             R 4001- R 5000   \n",
       "2  Private accommodation/ stay with family/friends            R 7001 - R 8000   \n",
       "3  Private accommodation/ stay with family/friends             R 4001- R 5000   \n",
       "4  Private accommodation/ stay with family/friends            R 6001 - R 7000   \n",
       "\n",
       "                                scholarship  \\\n",
       "0  Were you on scholarship/bursary in 2023?   \n",
       "1                                        No   \n",
       "2                       Yes (NSFAS, etc...)   \n",
       "3                                        No   \n",
       "4                                        No   \n",
       "\n",
       "                                  study_hours_week  \\\n",
       "0  Additional amount of studying (in hrs) per week   \n",
       "1                                               8+   \n",
       "2                                               8+   \n",
       "3                                              3-5   \n",
       "4                                              3-5   \n",
       "\n",
       "                                    socialising_week  \\\n",
       "0  How often do you go out partying/socialising d...   \n",
       "1                                      Only weekends   \n",
       "2                                      Only weekends   \n",
       "3                                                  2   \n",
       "4                                                  3   \n",
       "\n",
       "                                        drinks_night  \\\n",
       "0  On a night out, how many alcoholic drinks do y...   \n",
       "1                                                 8+   \n",
       "2                                                3-5   \n",
       "3                                                 8+   \n",
       "4                                                 8+   \n",
       "\n",
       "                                      classes_missed  \\\n",
       "0  How many classes do you miss per week due to a...   \n",
       "1                                                  3   \n",
       "2                                                 4+   \n",
       "3                                                  3   \n",
       "4                                                  2   \n",
       "\n",
       "                                      modules_failed  \\\n",
       "0  How many modules have you failed thus far into...   \n",
       "1                                                  0   \n",
       "2                                                  0   \n",
       "3                                                  0   \n",
       "4                                                  0   \n",
       "\n",
       "                                 in_relationship  \\\n",
       "0  Are you currently in a romantic relationship?   \n",
       "1                                            Yes   \n",
       "2                                             No   \n",
       "3                                             No   \n",
       "4                                            Yes   \n",
       "\n",
       "                              parental_approval  \\\n",
       "0  Do your parents approve alcohol consumption?   \n",
       "1                                           Yes   \n",
       "2                                           Yes   \n",
       "3                                           Yes   \n",
       "4                                           Yes   \n",
       "\n",
       "                                relationship_parents  \n",
       "0  How strong is your relationship with your pare...  \n",
       "1                                         Very close  \n",
       "2                                         Very close  \n",
       "3                                         Very close  \n",
       "4                                         Very close  "
      ]
     },
     "execution_count": 9,
     "metadata": {},
     "output_type": "execute_result"
    }
   ],
   "source": [
    "columns_name = [\n",
    "    'timestamp','sex','matric_gpa_%' ,'study_year','faculty','gpa_%_2023','accommodation_status',\n",
    "    'monthly_allowance','scholarship','study_hours_week','socialising_week','drinks_night',\n",
    "    'classes_missed','modules_failed','in_relationship','parental_approval','relationship_parents'\n",
    "]\n",
    "survey_df = pd.read_csv(\"Stats survey.csv\", names = columns_name)\n",
    "\n",
    "survey_df.head()\n"
   ]
  },
  {
   "cell_type": "code",
   "execution_count": 12,
   "id": "9a540263-3b41-4bc2-b868-8584fea4fafc",
   "metadata": {},
   "outputs": [
    {
     "name": "stdout",
     "output_type": "stream",
     "text": [
      "<class 'pandas.core.frame.DataFrame'>\n",
      "RangeIndex: 407 entries, 0 to 406\n",
      "Data columns (total 17 columns):\n",
      " #   Column                Non-Null Count  Dtype \n",
      "---  ------                --------------  ----- \n",
      " 0   timestamp             407 non-null    object\n",
      " 1   sex                   405 non-null    object\n",
      " 2   matric_gpa_%          400 non-null    object\n",
      " 3   study_year            334 non-null    object\n",
      " 4   faculty               400 non-null    object\n",
      " 5   gpa_%_2023            321 non-null    object\n",
      " 6   accommodation_status  384 non-null    object\n",
      " 7   monthly_allowance     376 non-null    object\n",
      " 8   scholarship           399 non-null    object\n",
      " 9   study_hours_week      404 non-null    object\n",
      " 10  socialising_week      405 non-null    object\n",
      " 11  drinks_night          405 non-null    object\n",
      " 12  classes_missed        404 non-null    object\n",
      " 13  modules_failed        404 non-null    object\n",
      " 14  in_relationship       404 non-null    object\n",
      " 15  parental_approval     403 non-null    object\n",
      " 16  relationship_parents  404 non-null    object\n",
      "dtypes: object(17)\n",
      "memory usage: 54.2+ KB\n"
     ]
    }
   ],
   "source": [
    "survey_df.info()"
   ]
  },
  {
   "cell_type": "code",
   "execution_count": 11,
   "id": "f3fb7ddb-ddf7-487b-aa10-6c513c81ca69",
   "metadata": {},
   "outputs": [
    {
     "data": {
      "text/plain": [
       "sex\n",
       "Male         0.533333\n",
       "Female       0.464198\n",
       "Your Sex?    0.002469\n",
       "Name: proportion, dtype: float64"
      ]
     },
     "execution_count": 11,
     "metadata": {},
     "output_type": "execute_result"
    }
   ],
   "source": [
    "survey_df[\"sex\"].value_counts(normalize = True)"
   ]
  },
  {
   "cell_type": "markdown",
   "id": "bc19a4c8-4733-4a9c-9a9d-3ad26ce3868b",
   "metadata": {},
   "source": [
    "In our survey,There are 53% of male and 47% of female population."
   ]
  },
  {
   "cell_type": "code",
   "execution_count": 15,
   "id": "949775ae-2641-4f29-8b2f-1f3e63b5ace4",
   "metadata": {},
   "outputs": [
    {
     "data": {
      "text/html": [
       "<div>\n",
       "<style scoped>\n",
       "    .dataframe tbody tr th:only-of-type {\n",
       "        vertical-align: middle;\n",
       "    }\n",
       "\n",
       "    .dataframe tbody tr th {\n",
       "        vertical-align: top;\n",
       "    }\n",
       "\n",
       "    .dataframe thead th {\n",
       "        text-align: right;\n",
       "    }\n",
       "</style>\n",
       "<table border=\"1\" class=\"dataframe\">\n",
       "  <thead>\n",
       "    <tr style=\"text-align: right;\">\n",
       "      <th>relationship_parents</th>\n",
       "      <th>Close</th>\n",
       "      <th>Distant</th>\n",
       "      <th>Fair</th>\n",
       "      <th>How strong is your relationship with your parent/s?</th>\n",
       "      <th>Very close</th>\n",
       "    </tr>\n",
       "    <tr>\n",
       "      <th>parental_approval</th>\n",
       "      <th></th>\n",
       "      <th></th>\n",
       "      <th></th>\n",
       "      <th></th>\n",
       "      <th></th>\n",
       "    </tr>\n",
       "  </thead>\n",
       "  <tbody>\n",
       "    <tr>\n",
       "      <th>Do your parents approve alcohol consumption?</th>\n",
       "      <td>0</td>\n",
       "      <td>0</td>\n",
       "      <td>0</td>\n",
       "      <td>1</td>\n",
       "      <td>0</td>\n",
       "    </tr>\n",
       "    <tr>\n",
       "      <th>No</th>\n",
       "      <td>18</td>\n",
       "      <td>1</td>\n",
       "      <td>9</td>\n",
       "      <td>0</td>\n",
       "      <td>20</td>\n",
       "    </tr>\n",
       "    <tr>\n",
       "      <th>Yes</th>\n",
       "      <td>79</td>\n",
       "      <td>1</td>\n",
       "      <td>25</td>\n",
       "      <td>0</td>\n",
       "      <td>248</td>\n",
       "    </tr>\n",
       "  </tbody>\n",
       "</table>\n",
       "</div>"
      ],
      "text/plain": [
       "relationship_parents                          Close  Distant  Fair  \\\n",
       "parental_approval                                                    \n",
       "Do your parents approve alcohol consumption?      0        0     0   \n",
       "No                                               18        1     9   \n",
       "Yes                                              79        1    25   \n",
       "\n",
       "relationship_parents                          How strong is your relationship with your parent/s?  \\\n",
       "parental_approval                                                                                   \n",
       "Do your parents approve alcohol consumption?                                                  1     \n",
       "No                                                                                            0     \n",
       "Yes                                                                                           0     \n",
       "\n",
       "relationship_parents                          Very close  \n",
       "parental_approval                                         \n",
       "Do your parents approve alcohol consumption?           0  \n",
       "No                                                    20  \n",
       "Yes                                                  248  "
      ]
     },
     "execution_count": 15,
     "metadata": {},
     "output_type": "execute_result"
    }
   ],
   "source": [
    "table=pd.crosstab(survey_df['parental_approval'],survey_df['relationship_parents'])\n",
    "table"
   ]
  },
  {
   "cell_type": "code",
   "execution_count": 16,
   "id": "7f887108-1877-41b9-af32-05cf226c2213",
   "metadata": {},
   "outputs": [
    {
     "data": {
      "text/plain": [
       "<Axes: xlabel='relationship_parents'>"
      ]
     },
     "execution_count": 16,
     "metadata": {},
     "output_type": "execute_result"
    },
    {
     "data": {
      "image/png": "[encoded data removed]",
      "text/plain": [
       "<Figure size 640x480 with 1 Axes>"
      ]
     },
     "metadata": {},
     "output_type": "display_data"
    }
   ],
   "source": [
    "table.T.plot.line()"
   ]
  },
  {
   "cell_type": "markdown",
   "id": "df13a334-23d7-4b27-a591-9349083fe011",
   "metadata": {},
   "source": [
    "### heatmap"
   ]
  },
  {
   "cell_type": "code",
   "execution_count": 22,
   "id": "30a5a052-efd3-42eb-a618-698595c1640e",
   "metadata": {},
   "outputs": [
    {
     "data": {
      "text/plain": [
       "accommodation_status\n",
       "Private accommodation/ stay with family/friends    0.872396\n",
       "Non-private accommodation ie. Res                  0.125000\n",
       "Your Accommodation Status Last Year (2023)         0.002604\n",
       "Name: proportion, dtype: float64"
      ]
     },
     "execution_count": 22,
     "metadata": {},
     "output_type": "execute_result"
    }
   ],
   "source": [
    "survey_df.accommodation_status.value_counts(normalize = True)"
   ]
  },
  {
   "cell_type": "code",
   "execution_count": null,
   "id": "72d052fc-5855-421f-9d0a-90e44b357ad9",
   "metadata": {},
   "outputs": [],
   "source": []
  },
  {
   "cell_type": "code",
   "execution_count": 25,
   "id": "b1b27ca0-af2f-421e-bfc8-09a347d802b5",
   "metadata": {},
   "outputs": [
    {
     "data": {
      "text/plain": [
       "timestamp                0\n",
       "sex                      2\n",
       "matric_gpa_%             7\n",
       "study_year              73\n",
       "faculty                  7\n",
       "gpa_%_2023              86\n",
       "accommodation_status    23\n",
       "monthly_allowance       31\n",
       "scholarship              8\n",
       "study_hours_week         3\n",
       "socialising_week         2\n",
       "drinks_night             2\n",
       "classes_missed           3\n",
       "modules_failed           3\n",
       "in_relationship          3\n",
       "parental_approval        4\n",
       "relationship_parents     3\n",
       "dtype: int64"
      ]
     },
     "execution_count": 25,
     "metadata": {},
     "output_type": "execute_result"
    }
   ],
   "source": [
    "survey_df.isna().sum()"
   ]
  },
  {
   "cell_type": "code",
   "execution_count": 29,
   "id": "1ee5e5d4-85c4-4021-8732-2778a30a2201",
   "metadata": {},
   "outputs": [
    {
     "data": {
      "text/plain": [
       "study_year\n",
       "2nd Year                                    153\n",
       "1st Year                                    128\n",
       "NaN                                          73\n",
       "3rd Year                                     40\n",
       "4th Year                                      7\n",
       "Postgraduate                                  5\n",
       "What year were you in last year (2023) ?      1\n",
       "Name: count, dtype: int64"
      ]
     },
     "execution_count": 29,
     "metadata": {},
     "output_type": "execute_result"
    }
   ],
   "source": [
    "survey_df['study_year'].value_counts(dropna = False)"
   ]
  },
  {
   "cell_type": "code",
   "execution_count": null,
   "id": "e1f415f4-02e4-4ca6-8cdd-839f7564a54b",
   "metadata": {},
   "outputs": [],
   "source": []
  }
 ],
 "metadata": {
  "kernelspec": {
   "display_name": "Python 3 (ipykernel)",
   "language": "python",
   "name": "python3"
  },
  "language_info": {
   "codemirror_mode": {
    "name": "ipython",
    "version": 3
   },
   "file_extension": ".py",
   "mimetype": "text/x-python",
   "name": "python",
   "nbconvert_exporter": "python",
   "pygments_lexer": "ipython3",
   "version": "3.12.1"
  }
 },
 "nbformat": 4,
 "nbformat_minor": 5
}
