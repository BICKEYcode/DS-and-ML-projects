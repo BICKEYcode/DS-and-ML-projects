{
 "cells": [
  {
   "cell_type": "code",
   "execution_count": 1,
   "id": "8c19de04-2ee5-4ae5-8677-a2655674839b",
   "metadata": {},
   "outputs": [
    {
     "name": "stdout",
     "output_type": "stream",
     "text": [
      "hello\n"
     ]
    }
   ],
   "source": [
    "print(\"hello\")"
   ]
  },
  {
   "cell_type": "code",
   "execution_count": 2,
   "id": "f82411f4-9f1b-4231-8346-6fe1a5ce5128",
   "metadata": {},
   "outputs": [
    {
     "name": "stdout",
     "output_type": "stream",
     "text": [
      "hi\n"
     ]
    }
   ],
   "source": [
    "print(\"hi\")"
   ]
  },
  {
   "cell_type": "code",
   "execution_count": 3,
   "id": "7a8adef0-4dbc-4660-bd5a-be9508fc20b5",
   "metadata": {},
   "outputs": [
    {
     "name": "stdout",
     "output_type": "stream",
     "text": [
      "1 *\n",
      "2 **\n",
      "3 ***\n",
      "4 ****\n"
     ]
    }
   ],
   "source": [
    "a = \"*\"\n",
    "for i in range(1,6):\n",
    "    print(i,\"*\"*i)"
   ]
  },
  {
   "cell_type": "code",
   "execution_count": 4,
   "id": "4fb80804-5ce1-4358-9478-519ac2fdfd35",
   "metadata": {},
   "outputs": [
    {
     "name": "stdout",
     "output_type": "stream",
     "text": [
      "1\n",
      "12\n",
      "123\n",
      "1234\n",
      "12345\n"
     ]
    }
   ],
   "source": [
    "res = \"\"\n",
    "for i in range (1,6):\n",
    "    res = res + str(i)\n",
    "    print(res)"
   ]
  },
  {
   "cell_type": "code",
   "execution_count": 5,
   "id": "02a21390-934c-46b5-81a3-0a4c232eb1bb",
   "metadata": {},
   "outputs": [
    {
     "name": "stdout",
     "output_type": "stream",
     "text": [
      "0\n",
      "1\n",
      "2\n",
      "3\n",
      "4\n"
     ]
    }
   ],
   "source": [
    "i = 0\n",
    "while i < 5:\n",
    "    print(i)\n",
    "    i += 1"
   ]
  },
  {
   "cell_type": "code",
   "execution_count": 13,
   "id": "7d9f4e13-3c4a-4b9c-9384-4a9c5844e7c6",
   "metadata": {},
   "outputs": [
    {
     "name": "stdin",
     "output_type": "stream",
     "text": [
      "Enter a number:  12\n"
     ]
    },
    {
     "name": "stdout",
     "output_type": "stream",
     "text": [
      "12 * 1 = 12\n",
      "12 * 2 = 24\n",
      "12 * 3 = 36\n",
      "12 * 4 = 48\n",
      "12 * 5 = 60\n",
      "12 * 6 = 72\n",
      "12 * 7 = 84\n",
      "12 * 8 = 96\n",
      "12 * 9 = 108\n",
      "12 * 10 = 120\n"
     ]
    }
   ],
   "source": [
    "i = 1\n",
    "m = int(input(\"Enter a number: \"))\n",
    "while i <= 10:\n",
    "    print(f\"{m} * {i} = {m * i}\")\n",
    "    i += 1"
   ]
  },
  {
   "cell_type": "code",
   "execution_count": 17,
   "id": "def67be2-fd14-4ff0-b0b8-9d7dc04171e0",
   "metadata": {},
   "outputs": [
    {
     "name": "stdin",
     "output_type": "stream",
     "text": [
      "Enter a number:  20\n"
     ]
    },
    {
     "name": "stdout",
     "output_type": "stream",
     "text": [
      "20 * 1 = 20\n",
      "20 * 2 = 40\n",
      "20 * 3 = 60\n",
      "20 * 4 = 80\n",
      "20 * 5 = 100\n",
      "20 * 6 = 120\n"
     ]
    }
   ],
   "source": [
    "i = 1\n",
    "m = int(input(\"Enter a number: \"))\n",
    "while i <= 10:\n",
    "    res = m * i\n",
    "    print(f\"{m} * {i} = {res}\")\n",
    "    i += 1\n",
    "    if res > 100:\n",
    "        break"
   ]
  },
  {
   "cell_type": "code",
   "execution_count": null,
   "id": "35660f39-1090-4c4e-a904-1e828c27e30d",
   "metadata": {},
   "outputs": [],
   "source": [
    "squared = [i**2 for i in number]"
   ]
  },
  {
   "cell_type": "code",
   "execution_count": 21,
   "id": "a1de7ec5-de24-4c87-ab74-d72415c5d5a1",
   "metadata": {},
   "outputs": [
    {
     "name": "stdout",
     "output_type": "stream",
     "text": [
      "0\n",
      "1\n",
      "2\n",
      "3\n",
      "4\n",
      "6\n",
      "7\n",
      "8\n"
     ]
    }
   ],
   "source": [
    "for i in range(9):\n",
    "    if i==5:\n",
    "        continue\n",
    "    print(i)    \n",
    "    "
   ]
  },
  {
   "cell_type": "code",
   "execution_count": 22,
   "id": "3fe67918-5754-4bc3-8356-639f69863089",
   "metadata": {},
   "outputs": [
    {
     "name": "stdout",
     "output_type": "stream",
     "text": [
      "[1, 4, 9, 16]\n"
     ]
    }
   ],
   "source": [
    "number = [1,2,3,4]\n",
    "squared = [i**2 for i in number]\n",
    "print(squared)"
   ]
  },
  {
   "cell_type": "code",
   "execution_count": 23,
   "id": "e8d46ecb-1b0c-4d3b-837b-77f03de8eac0",
   "metadata": {},
   "outputs": [
    {
     "name": "stdout",
     "output_type": "stream",
     "text": [
      "[4, 16]\n"
     ]
    }
   ],
   "source": [
    "number = [1,2,3,4]\n",
    "squared = [i**2 for i in number if i%2 == 0]\n",
    "print(squared)"
   ]
  },
  {
   "cell_type": "code",
   "execution_count": 25,
   "id": "7e1f28b3-58a7-4b8a-8e61-08d2296178c2",
   "metadata": {},
   "outputs": [
    {
     "name": "stdout",
     "output_type": "stream",
     "text": [
      "[2, 4, 2, 16]\n"
     ]
    }
   ],
   "source": [
    "number = [1,2,3,4]\n",
    "squared = [i**2 if i%2 == 0 else 2 for i in number ]\n",
    "print(squared)"
   ]
  },
  {
   "cell_type": "code",
   "execution_count": null,
   "id": "d8d4c11c-84a2-48a5-8a5a-500479e669be",
   "metadata": {},
   "outputs": [],
   "source": []
  },
  {
   "cell_type": "code",
   "execution_count": 27,
   "id": "95e8ba61-5bbf-43a7-b0ac-78551c76ad80",
   "metadata": {},
   "outputs": [
    {
     "name": "stdout",
     "output_type": "stream",
     "text": [
      "[4, 7, 7, 8]\n"
     ]
    }
   ],
   "source": [
    "words = ['data','science','machine', 'learning']\n",
    "res = []\n",
    "for word in words:\n",
    "    res.append(len(word))\n",
    "print(res)"
   ]
  },
  {
   "cell_type": "code",
   "execution_count": 28,
   "id": "ec24dc77-3309-45c9-8153-6f585d051160",
   "metadata": {},
   "outputs": [
    {
     "name": "stdout",
     "output_type": "stream",
     "text": [
      "[4, 7, 7, 8]\n"
     ]
    }
   ],
   "source": [
    "words = ['data','science','machine', 'learning']\n",
    "length = [len(word) for word in words]\n",
    "print(length)\n"
   ]
  },
  {
   "cell_type": "code",
   "execution_count": 29,
   "id": "88ee2326-e721-48a3-94a9-14aa913041bc",
   "metadata": {},
   "outputs": [
    {
     "name": "stdout",
     "output_type": "stream",
     "text": [
      "[3, 5, 7, 7]\n"
     ]
    }
   ],
   "source": [
    "words = ['data','science','machine', 'learning']\n",
    "length = [len(set(word)) for word in words]\n",
    "print(length)"
   ]
  },
  {
   "cell_type": "code",
   "execution_count": 30,
   "id": "abe1ad59-4615-4118-aff8-ff50358f72fc",
   "metadata": {},
   "outputs": [
    {
     "name": "stdout",
     "output_type": "stream",
     "text": [
      "{'u', 'e', 'a', 'o', 'i'}\n"
     ]
    }
   ],
   "source": [
    "sent = \"the quick brown fox jump over a lazy dog\"\n",
    "vowels = set(\"aeiou\")\n",
    "output = { char for char in sent if char in vowels}\n",
    "print(output)"
   ]
  },
  {
   "cell_type": "code",
   "execution_count": 32,
   "id": "d6fdd949-f332-41fe-8eef-55b07b04695a",
   "metadata": {},
   "outputs": [
    {
     "name": "stdout",
     "output_type": "stream",
     "text": [
      "{'u', 'e', 'a', 'o', 'i'}\n"
     ]
    }
   ],
   "source": [
    "sent = \"the quick brown fox jump over a lazy dog\"\n",
    "vowels = set(\"aeiou\")\n",
    "output = { char \n",
    "          for char in sent.lower()\n",
    "          if char in vowels}\n",
    "print(output)"
   ]
  },
  {
   "cell_type": "code",
   "execution_count": null,
   "id": "6057111b-708b-4605-b389-1411802400d5",
   "metadata": {},
   "outputs": [],
   "source": []
  }
 ],
 "metadata": {
  "kernelspec": {
   "display_name": "Python 3 (ipykernel)",
   "language": "python",
   "name": "python3"
  },
  "language_info": {
   "codemirror_mode": {
    "name": "ipython",
    "version": 3
   },
   "file_extension": ".py",
   "mimetype": "text/x-python",
   "name": "python",
   "nbconvert_exporter": "python",
   "pygments_lexer": "ipython3",
   "version": "3.12.1"
  }
 },
 "nbformat": 4,
 "nbformat_minor": 5
}
