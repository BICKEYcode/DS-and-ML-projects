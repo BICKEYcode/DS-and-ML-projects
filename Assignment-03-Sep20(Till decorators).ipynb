{
 "cells": [
  {
   "cell_type": "markdown",
   "id": "7e76d9b4",
   "metadata": {},
   "source": [
    "# Problem Statement\n",
    "\n",
    "We want to build an online shopping cart system that allows users to add products to their cart, calculate the total cost, apply discounts, and generate an invoice. The system should include the following functionalities:\n",
    "\n",
    "- Adding products to the cart\n",
    "- Removing products from the cart\n",
    "- Calculating the total cost\n",
    "- Applying discounts based on user type\n",
    "- Generating an invoice\n",
    "\n",
    "### 1. Create the Product class\n",
    "\n",
    "We create a basic `Product` class with attributes for the product name and price."
   ]
  },
  {
   "cell_type": "code",
   "execution_count": 11,
   "id": "a286f01a",
   "metadata": {},
   "outputs": [],
   "source": [
    "class Product:\n",
    "    def __init__(self, name: str, price: float):\n",
    "            \"\"\"\n",
    "            Initializing  Product object with a name and price.\n",
    "    \n",
    "            Para:\n",
    "            ----------------\n",
    "            P_name (str): The name of the product.\n",
    "            price (float): The price of the product.\n",
    "            \"\"\"\n",
    "            self.name = name\n",
    "            self.price = price\n",
    "        \n",
    "product1 = Product(\"Iphone 16\", 99999)\n",
    "product2 = Product(\"Samsung s25\", 129399)\n",
    "    "
   ]
  },
  {
   "cell_type": "markdown",
   "id": "0c9aa397",
   "metadata": {},
   "source": [
    "### 2.  Implement the User class\n",
    "\n",
    "In this step, we create a `User` class with attributes for the user's name and whether they are a premium member. We then modify the `calculate_total_cost` method in the `ShoppingCart` class to apply a `10%` discount for premium users."
   ]
  },
  {
   "cell_type": "code",
   "execution_count": 15,
   "id": "e007527e-343c-45a0-9882-aa73b755c095",
   "metadata": {},
   "outputs": [],
   "source": [
    "class User:\n",
    "    def __init__(self, name, is_premium=False):\n",
    "        \"\"\"\n",
    "        Initializing a User object with a name and premium status.\n",
    "\n",
    "        Para:\n",
    "        ----------\n",
    "        name (str): The name of the user.\n",
    "        is_premium (bool): Whether the user is a premium member (default: False).\n",
    "        \"\"\"\n",
    "        self.name = name\n",
    "        self.is_premium = is_premium\n",
    "\n",
    "user1 = User(\"Bickey\")\n",
    "user2 = User(\"Bickey\", is_premium=True)\n",
    "\n",
    "class ShoppingCart:\n",
    "    def __init__(self):\n",
    "        self.products = []\n",
    "    \n",
    "    def add_product(self, product: Product):\n",
    "        \"\"\"\n",
    "        Add a product to shopping cart.\n",
    "\n",
    "        Para:\n",
    "        -------\n",
    "               product: to add\n",
    "        \"\"\"       \n",
    "        self.products.append(product)\n",
    "    \n",
    "    def remove_product(self, product: Product):\n",
    "        \"\"\"\n",
    "        Removes a product from the shopping cart.\n",
    "\n",
    "        Para:\n",
    "        --------\n",
    "            product (Product): The product to remove.\n",
    "        \"\"\"\n",
    "        self.products.remove(product)\n",
    "    \n",
    "    def calculate_total_cost(self, user: User):\n",
    "        \"\"\"\n",
    "        Calculates the total cost of the products in the shopping cart.\n",
    "\n",
    "        Returns:\n",
    "        --------\n",
    "            float: The total cost.\n",
    "        \"\"\"\n",
    "        total_cost = sum(product.price for product in self.products)\n",
    "        if user.is_premium:\n",
    "            discount = total_cost * 0.10  \n",
    "            total_cost = total_cost - discount\n",
    "        return total_cost\n",
    "    \n",
    "    def generate_invoice(self):\n",
    "        \"\"\"\n",
    "        Generates an invoice for the products in the shopping cart.\n",
    "\n",
    "        Returns:\n",
    "        ----------\n",
    "            str: The invoice.\n",
    "        \"\"\"\n",
    "        invoice_lines = [f\"{product.name}: Rs{product.price:.2f}\" for product in self.products]\n",
    "        total_cost = self.calculate_total_cost(user)\n",
    "        invoice_lines.append(f\"Total Cost: Rs{total_cost:.2f}\")\n",
    "        \n",
    "        return \"\\n\".join(invoice_lines)\n"
   ]
  },
  {
   "cell_type": "code",
   "execution_count": 21,
   "id": "3393e953",
   "metadata": {},
   "outputs": [
    {
     "name": "stdout",
     "output_type": "stream",
     "text": [
      "Total Cost for Bickey: Rs183554.08\n",
      "Iphone 16: Rs999.99\n",
      "Samsung s25: Rs1299.99\n",
      "Iphone 16: Rs89999.00\n",
      "Samsung s25: Rs111650.00\n",
      "Total Cost: Rs183554.08\n"
     ]
    }
   ],
   "source": [
    "\n",
    "product3 = Product(\"Iphone 16\", 89999)\n",
    "product4 = Product(\"Samsung s25\", 111650)\n",
    "\n",
    "user = User(\"Bickey\", is_premium=True)\n",
    "\n",
    "cart = ShoppingCart()\n",
    "cart.add_product(product1)\n",
    "cart.add_product(product2)\n",
    "cart.add_product(product3)\n",
    "cart.add_product(product4)\n",
    "\n",
    "\n",
    "total_cost = cart.calculate_total_cost(user)\n",
    "print(f\"Total Cost for {user.name}: Rs{total_cost:.2f}\")\n",
    "\n",
    "invoice = cart.generate_invoice()\n",
    "print(invoice)\n"
   ]
  },
  {
   "cell_type": "markdown",
   "id": "3b7e070b",
   "metadata": {},
   "source": [
    "# 3. Create the ShoppingCart class\n",
    "\n",
    "In this step, we create a `ShoppingCart` class with methods for adding and removing products from the cart, as well as calculating the total cost of the items in the cart."
   ]
  },
  {
   "cell_type": "code",
   "execution_count": 26,
   "id": "c0b5196d",
   "metadata": {},
   "outputs": [
    {
     "name": "stdout",
     "output_type": "stream",
     "text": [
      "Added Iphone 16 to the cart.\n",
      "Added Samsung s25 to the cart.\n",
      "-----------------\n",
      "Products in cart:\n",
      "Iphone 16: Rs99999.00\n",
      "Samsung s25: Rs129399.00\n",
      "-----------------\n",
      "Total Cost: Rs229398.00\n",
      "-----------------\n",
      "Removed Samsung s25 from the cart.\n",
      "Products in cart after removal:\n",
      "Iphone 16: Rs99999.00\n",
      "--------------------------------------------------------------\n"
     ]
    }
   ],
   "source": [
    "class ShoppingCart:\n",
    "    def __init__(self):\n",
    "        self.products = []\n",
    "\n",
    "    def add_product(self, product: Product):\n",
    "        \"\"\"\n",
    "        Adds a product to the shopping cart.\n",
    "        \"\"\"\n",
    "        self.products.append(product)\n",
    "        print(f\"Added {product.name} to the cart.\")\n",
    "\n",
    "    def remove_product(self, product: Product):\n",
    "        \"\"\"\n",
    "        Removes a product from the shopping cart.\n",
    "        \"\"\"\n",
    "        try:\n",
    "            self.products.remove(product)\n",
    "            print(f\"Removed {product.name} from the cart.\")\n",
    "        except Exception as ex:\n",
    "            print(f\"{product.name} is not in the cart.\")\n",
    "    @discount_10_percent\n",
    "    def calculate_total_cost(self): \n",
    "        \"\"\"\n",
    "        Calculates the total cost of the products in the cart.\n",
    "        \"\"\"\n",
    "        total_cost = sum(product.price for product in self.products)\n",
    "        return total_cost\n",
    "\n",
    "    def list_products(self): \n",
    "        \"\"\"\n",
    "        Returns a string listing all products in the cart.\n",
    "        \"\"\"\n",
    "        if not self.products:\n",
    "            return \"The cart is empty.\"\n",
    "        return \"\\n\".join(f\"{product.name}: Rs{product.price:.2f}\" for product in self.products)\n",
    "        \n",
    "product1 = Product(\"Iphone 16\", 99999)\n",
    "product2 = Product(\"Samsung s25\", 129399)\n",
    "   \n",
    "\n",
    "    \n",
    "cart = ShoppingCart()\n",
    "\n",
    "\n",
    "cart.add_product(product1)\n",
    "cart.add_product(product2)\n",
    "print(\"-----------------\")\n",
    "\n",
    "print(\"Products in cart:\")\n",
    "print(cart.list_products())\n",
    "\n",
    "print(\"-----------------\")\n",
    "total_cost = cart.calculate_total_cost()\n",
    "print(f\"Total Cost: Rs{total_cost:.2f}\")\n",
    "print(\"-----------------\")\n",
    "\n",
    "cart.remove_product(product2)\n",
    "\n",
    "    \n",
    "print(\"Products in cart after removal:\")\n",
    "print(cart.list_products())\n",
    "print(\"--------------------------------------------------------------\")"
   ]
  },
  {
   "cell_type": "markdown",
   "id": "da1f3494",
   "metadata": {},
   "source": [
    "Here, we defined a decorator `discount_10_percent` that applies a `10%` discount to the total cost. We then apply this decorator to the `calculate_total_cost` method in the `ShoppingCart` class."
   ]
  },
  {
   "cell_type": "code",
   "execution_count": 29,
   "id": "996a90d4-b7f1-4d31-9de3-1af168dc36c1",
   "metadata": {},
   "outputs": [],
   "source": [
    "def discount_10_percent(func):\n",
    "    def wrapper(self, *args, **kwargs):\n",
    "        if self.is_member:\n",
    "            total_cost = func(self, *args, **kwargs)\n",
    "            discounted_cost = total_cost * 0.90\n",
    "        return discounted_cost\n",
    "    return wrapper\n"
   ]
  },
  {
   "cell_type": "code",
   "execution_count": 674,
   "id": "70bbec8d",
   "metadata": {},
   "outputs": [],
   "source": []
  },
  {
   "cell_type": "markdown",
   "id": "afc26053",
   "metadata": {},
   "source": [
    "### 4. Testing the functionality\n",
    "\n",
    "Now that we have implemented the necessary classes and methods, let's test our online shopping cart system:"
   ]
  },
  {
   "cell_type": "code",
   "execution_count": 675,
   "id": "6186bdcb",
   "metadata": {},
   "outputs": [],
   "source": [
    "product1 = Product(\"Iphone 16\", 99999)\n",
    "product2 = Product(\"Samsung s25\", 129399)"
   ]
  },
  {
   "cell_type": "code",
   "execution_count": 676,
   "id": "f8d69fc4-f355-4266-b556-d3ff84479a91",
   "metadata": {},
   "outputs": [],
   "source": [
    "user = User(\"Bickey\", is_premium=True)\n",
    "user1 = User(\"Anil\", is_premium=True)"
   ]
  },
  {
   "cell_type": "code",
   "execution_count": 677,
   "id": "4fa36953-59a7-4828-bc39-f9f4877fcd87",
   "metadata": {},
   "outputs": [],
   "source": [
    "cart = ShoppingCart(user)\n",
    "cart1 = ShoppingCart(user1)"
   ]
  },
  {
   "cell_type": "code",
   "execution_count": 32,
   "id": "6752826b-cd12-48d7-b7bd-5aaf67d15950",
   "metadata": {},
   "outputs": [
    {
     "name": "stdout",
     "output_type": "stream",
     "text": [
      "Added Iphone 16 to the cart.\n",
      "Added Samsung s25 to the cart.\n",
      "Iphone 16: Rs99999.00\n",
      "Iphone 16: Rs99999.00\n",
      "Samsung s25: Rs129399.00\n",
      "Iphone 16: Rs99999.00\n",
      "Samsung s25: Rs129399.00\n",
      "Iphone 16: Rs99999.00\n",
      "Samsung s25: Rs129399.00\n"
     ]
    }
   ],
   "source": [
    "cart.add_product(product1)\n",
    "cart.add_product(product2)\n",
    "print(cart.list_products())"
   ]
  },
  {
   "cell_type": "code",
   "execution_count": 33,
   "id": "4b0030a9-3d5f-4830-a122-5e443f62223f",
   "metadata": {},
   "outputs": [
    {
     "name": "stdout",
     "output_type": "stream",
     "text": [
      "Removed Samsung s25 from the cart.\n",
      "Iphone 16: Rs99999.00\n",
      "Iphone 16: Rs99999.00\n",
      "Iphone 16: Rs99999.00\n",
      "Samsung s25: Rs129399.00\n",
      "Iphone 16: Rs99999.00\n",
      "Samsung s25: Rs129399.00\n"
     ]
    }
   ],
   "source": [
    "cart.remove_product(product2)\n",
    "print(cart.list_products())"
   ]
  },
  {
   "cell_type": "code",
   "execution_count": 34,
   "id": "1fe7472c-c40a-4e7f-90fb-4bf78f0014dc",
   "metadata": {},
   "outputs": [
    {
     "data": {
      "text/plain": [
       "658794"
      ]
     },
     "execution_count": 34,
     "metadata": {},
     "output_type": "execute_result"
    }
   ],
   "source": [
    "cart.calculate_total_cost()"
   ]
  },
  {
   "cell_type": "code",
   "execution_count": null,
   "id": "f8942ade-972f-4d13-96a8-7c5beb030ffc",
   "metadata": {},
   "outputs": [],
   "source": []
  },
  {
   "cell_type": "code",
   "execution_count": null,
   "id": "fce91fa6-c723-4719-8f60-94451944087c",
   "metadata": {},
   "outputs": [],
   "source": []
  },
  {
   "cell_type": "code",
   "execution_count": null,
   "id": "e13c31a0-02de-48b3-9052-c5a39b20fd18",
   "metadata": {},
   "outputs": [],
   "source": []
  },
  {
   "cell_type": "markdown",
   "id": "7ea7c96e",
   "metadata": {},
   "source": [
    "### 5. Generating Invoice for a given cart"
   ]
  },
  {
   "cell_type": "code",
   "execution_count": 58,
   "id": "ff255cec-0092-4a2b-83aa-6ed2ce40e58a",
   "metadata": {},
   "outputs": [],
   "source": [
    "def generate_invoice(self):\n",
    "        if not self.products:\n",
    "            print(\"The cart is empty. No invoice can be generated.\")\n",
    "            return\n",
    "        else:\n",
    "            print(\"--- Invoice ---\",end = \"\\n\")\n",
    "            print(\"___________________\")\n",
    "            print(\"Products:\")\n",
    "            for product in self.products:\n",
    "                print(f\"{product.name}: Rs {product.price:.2f}\")\n",
    "            total_cost = self.calculate_total_cost()\n",
    "            print(f\"\\nTotal Cost (after discount): Rs {total_cost:.2f}\")\n",
    "        print(\"----------------------------------------------\")"
   ]
  },
  {
   "cell_type": "code",
   "execution_count": 59,
   "id": "3c12ae69",
   "metadata": {
    "scrolled": true
   },
   "outputs": [
    {
     "name": "stdout",
     "output_type": "stream",
     "text": [
      "--- Invoice ---\n",
      "___________________\n",
      "Products:\n",
      "Iphone 16: Rs 99999.00\n",
      "Samsung s25: Rs 129399.00\n",
      "\n",
      "Total Cost (after discount): Rs 229398.00\n",
      "----------------------------------------------\n"
     ]
    }
   ],
   "source": [
    "generate_invoice(cart)"
   ]
  },
  {
   "cell_type": "code",
   "execution_count": 48,
   "id": "24af94e3-4e76-494d-92dc-e8130207fa28",
   "metadata": {},
   "outputs": [],
   "source": [
    "product1 = Product(\"Iphone 16\", 99999)\n",
    "product2 = Product(\"Samsung s25\", 129399)"
   ]
  },
  {
   "cell_type": "code",
   "execution_count": 45,
   "id": "f5d0c276-85e0-4a39-9aee-2fa4a70f2707",
   "metadata": {},
   "outputs": [
    {
     "name": "stdout",
     "output_type": "stream",
     "text": [
      "Added Iphone 16 to the cart.\n",
      "Added Samsung s25 to the cart.\n",
      "Iphone 16: Rs99999.00\n",
      "Samsung s25: Rs129399.00\n"
     ]
    }
   ],
   "source": [
    "user = User(\"Bickey\", is_premium=True)\n",
    "user1 = User(\"Anil\", is_premium=True)\n",
    "\n",
    "cart.add_product(product1)\n",
    "cart.add_product(product2)\n",
    "print(cart.list_products())"
   ]
  },
  {
   "cell_type": "code",
   "execution_count": 60,
   "id": "6e2b73f8-9f7f-4e6b-b5f8-0335454361fb",
   "metadata": {},
   "outputs": [
    {
     "name": "stdout",
     "output_type": "stream",
     "text": [
      "--- Invoice ---\n",
      "___________________\n",
      "Products:\n",
      "Iphone 16: Rs 99999.00\n",
      "Samsung s25: Rs 129399.00\n",
      "\n",
      "Total Cost (after discount): Rs 229398.00\n",
      "----------------------------------------------\n"
     ]
    }
   ],
   "source": [
    "generate_invoice(cart)"
   ]
  },
  {
   "cell_type": "markdown",
   "id": "b602d561-09a8-4086-9295-dce1e8dacb71",
   "metadata": {},
   "source": [
    "### 6. Bonus Challenge"
   ]
  },
  {
   "cell_type": "markdown",
   "id": "cd2cf83b",
   "metadata": {},
   "source": [
    "In this case each user share the same cart, which is useless. Also each user can register himself/herself as a premium user, which is not practical again. So, you have to add following two additional features to the above program, to make it more real:\n",
    "\n",
    "1. Cart for a user should be independent from other users\n",
    "2. Add a new admin feature `is_admin` that takes in boolean values `[True, False]`, and only admin should be allowed to create other admins and set `is_premium=True` for other users"
   ]
  },
  {
   "cell_type": "code",
   "execution_count": 63,
   "id": "e2b84d65-35c3-4e3a-bf5a-caba2cd67251",
   "metadata": {},
   "outputs": [],
   "source": [
    "class Admin(User):\n",
    "    def create_user(self, name, is_premium: bool = False):\n",
    "        return User(name, is_premium)\n",
    "\n",
    "    def set_premium(self, user: User, is_premium: bool):\n",
    "        user.is_premium = is_premium\n",
    "        status = \"premium\" if is_premium else \"non-premium\"\n",
    "        print(f\"{user.name} is now a {status} user.\")\n",
    "\n",
    "    def make_admin(self, user: User):\n",
    "        user.is_admin = True\n",
    "        print(f\"{user.name} has been granted as admin.\")\n",
    "        \n"
   ]
  },
  {
   "cell_type": "code",
   "execution_count": 64,
   "id": "24d96d88-8fc7-458c-b003-5e8487399660",
   "metadata": {},
   "outputs": [],
   "source": [
    "user = User(\"Bickey\")\n",
    "user1 = User(\"Anil\")\n",
    "user3 = User(\"Nabin\")"
   ]
  },
  {
   "cell_type": "code",
   "execution_count": 66,
   "id": "28add862-d029-4f9f-82ef-75c35755c0a0",
   "metadata": {},
   "outputs": [
    {
     "name": "stdout",
     "output_type": "stream",
     "text": [
      "False\n"
     ]
    }
   ],
   "source": [
    "print(user3.is_premium)"
   ]
  },
  {
   "cell_type": "code",
   "execution_count": 67,
   "id": "8392b2d7-4a3c-4f83-9560-6bb989b05903",
   "metadata": {},
   "outputs": [],
   "source": [
    "admin = Admin(\"Bickey\")"
   ]
  },
  {
   "cell_type": "code",
   "execution_count": 72,
   "id": "e3461613-8664-4876-a7cc-c5a70fe9accf",
   "metadata": {},
   "outputs": [],
   "source": [
    "admin1 = admin.create_user(\"Ram\",is_premium = True)"
   ]
  },
  {
   "cell_type": "code",
   "execution_count": 75,
   "id": "3b54b03a-8dc9-4c1c-bb96-075699971b02",
   "metadata": {},
   "outputs": [
    {
     "name": "stdout",
     "output_type": "stream",
     "text": [
      "Bickey has been granted as admin.\n"
     ]
    }
   ],
   "source": [
    "\n",
    "admin.make_admin(user)\n"
   ]
  },
  {
   "cell_type": "code",
   "execution_count": null,
   "id": "e8c4240c-aedb-4d8f-a627-3aecc0f7ba75",
   "metadata": {},
   "outputs": [],
   "source": []
  },
  {
   "cell_type": "code",
   "execution_count": null,
   "id": "0cbef6ea-a61b-4515-8d68-053bab3d2f1e",
   "metadata": {},
   "outputs": [],
   "source": []
  }
 ],
 "metadata": {
  "kernelspec": {
   "display_name": "Python 3 (ipykernel)",
   "language": "python",
   "name": "python3"
  },
  "language_info": {
   "codemirror_mode": {
    "name": "ipython",
    "version": 3
   },
   "file_extension": ".py",
   "mimetype": "text/x-python",
   "name": "python",
   "nbconvert_exporter": "python",
   "pygments_lexer": "ipython3",
   "version": "3.12.1"
  }
 },
 "nbformat": 4,
 "nbformat_minor": 5
}
