{
 "cells": [
  {
   "cell_type": "markdown",
   "id": "ad406f1a-26ea-41f6-8455-d2b2ecaff3e9",
   "metadata": {},
   "source": [
    "# Exception handling\n",
    "## syntax:\n",
    "##try:\n",
    "    #code may raise an exception\n",
    "    except Exception type:\n",
    "    #error handling"
   ]
  },
  {
   "cell_type": "code",
   "execution_count": 5,
   "id": "101814b0-1ab4-4121-ae6f-0809acdfeac0",
   "metadata": {},
   "outputs": [
    {
     "name": "stdin",
     "output_type": "stream",
     "text": [
      "Enter a number: bu\n"
     ]
    },
    {
     "name": "stdout",
     "output_type": "stream",
     "text": [
      "invalid Input\n"
     ]
    }
   ],
   "source": [
    "try:\n",
    "    print (int(input(\"Enter a number:\")))\n",
    "except Error:\n",
    "    print(\"invalid Input\")"
   ]
  },
  {
   "cell_type": "code",
   "execution_count": 7,
   "id": "aeed68e7-9a14-41cb-9540-08f50a0eb9e2",
   "metadata": {},
   "outputs": [
    {
     "name": "stdout",
     "output_type": "stream",
     "text": [
      "invalid literal for int() with base 10: 'abc'\n",
      "Exception occured\n"
     ]
    }
   ],
   "source": [
    "num_str =\"abc\"\n",
    "try:\n",
    "    num = int(num_str)\n",
    "    print(num)\n",
    "except Exception as ex:\n",
    "    print(ex)\n",
    "    print (\"Exception occured\")"
   ]
  },
  {
   "cell_type": "code",
   "execution_count": 13,
   "id": "0116711b-5f54-482a-89bc-606a5b986885",
   "metadata": {},
   "outputs": [
    {
     "name": "stdout",
     "output_type": "stream",
     "text": [
      "a\n",
      "b\n",
      "c\n",
      "d\n",
      "Length of list 4, index 5 not accessible\n"
     ]
    }
   ],
   "source": [
    "lst = ['a','b','c','d']\n",
    "\n",
    "\n",
    "try :\n",
    "    for i in range(5):\n",
    "       print(lst[i])\n",
    "except IndexError:\n",
    "    print (f\"Length of list {len(lst)}, index {i+1} not accessible\")\n"
   ]
  },
  {
   "cell_type": "markdown",
   "id": "3682da50-354e-4cb8-aeb4-59cde1b23c11",
   "metadata": {},
   "source": [
    " ### Else block\n"
   ]
  },
  {
   "cell_type": "code",
   "execution_count": 15,
   "id": "6efbc6fd-39d5-479d-a63d-39c256813eee",
   "metadata": {},
   "outputs": [
    {
     "name": "stdin",
     "output_type": "stream",
     "text": [
      "enter a num: 40\n",
      "enter a num: 10\n"
     ]
    },
    {
     "name": "stdout",
     "output_type": "stream",
     "text": [
      "Result is 4.0\n"
     ]
    }
   ],
   "source": [
    "try:\n",
    "    num1=int(input(\"enter a num:\"))\n",
    "    num2=int(input(\"enter a num:\"))\n",
    "    res =  num1/num2\n",
    "except ZeroDivisionError:\n",
    "    print(\"cant divide by zero\")\n",
    "else:\n",
    "    print(\"Result is\",res)"
   ]
  },
  {
   "cell_type": "code",
   "execution_count": 16,
   "id": "fb9bb8c2-0269-42b7-9f74-8f293776aa6b",
   "metadata": {},
   "outputs": [
    {
     "name": "stdin",
     "output_type": "stream",
     "text": [
      "enter a num: 12\n",
      "enter a num: 2\n"
     ]
    },
    {
     "name": "stdout",
     "output_type": "stream",
     "text": [
      "Result is 6.0\n",
      "This block is always Executed\n"
     ]
    }
   ],
   "source": [
    "try:\n",
    "    num1=int(input(\"enter a num:\"))\n",
    "    num2=int(input(\"enter a num:\"))\n",
    "    res =  num1/num2\n",
    "except ZeroDivisionError:\n",
    "    print(\"cant divide by zero\")\n",
    "else:\n",
    "    print(\"Result is\",res)\n",
    "finally:\n",
    "    print(\"This block is always Executed\")"
   ]
  },
  {
   "cell_type": "markdown",
   "id": "c4b67bc2-79f7-48fd-aad7-cda46c3c027e",
   "metadata": {},
   "source": [
    "### CUSTOME ERROR"
   ]
  },
  {
   "cell_type": "code",
   "execution_count": 26,
   "id": "77dbc67f-59ee-4656-b2e5-38252b742bcd",
   "metadata": {},
   "outputs": [
    {
     "ename": "UserNotFoundError",
     "evalue": "",
     "output_type": "error",
     "traceback": [
      "\u001b[1;31m---------------------------------------------------------------------------\u001b[0m",
      "\u001b[1;31mUserNotFoundError\u001b[0m                         Traceback (most recent call last)",
      "Cell \u001b[1;32mIn[26], line 1\u001b[0m\n\u001b[1;32m----> 1\u001b[0m \u001b[38;5;28;43;01mclass\u001b[39;49;00m\u001b[43m \u001b[49m\u001b[38;5;21;43;01mUserNotFoundError\u001b[39;49;00m\u001b[43m(\u001b[49m\u001b[38;5;167;43;01mException\u001b[39;49;00m\u001b[43m)\u001b[49m\u001b[43m:\u001b[49m\n\u001b[0;32m      2\u001b[0m \u001b[43m    \u001b[49m\u001b[38;5;28;43;01mpass\u001b[39;49;00m\n\u001b[0;32m      3\u001b[0m \u001b[43m    \u001b[49m\u001b[38;5;28;43;01mraise\u001b[39;49;00m\u001b[43m \u001b[49m\u001b[43mUserNotFoundError\u001b[49m\n",
      "Cell \u001b[1;32mIn[26], line 3\u001b[0m, in \u001b[0;36mUserNotFoundError\u001b[1;34m()\u001b[0m\n\u001b[0;32m      1\u001b[0m \u001b[38;5;28;01mclass\u001b[39;00m \u001b[38;5;21;01mUserNotFoundError\u001b[39;00m(\u001b[38;5;167;01mException\u001b[39;00m):\n\u001b[0;32m      2\u001b[0m     \u001b[38;5;28;01mpass\u001b[39;00m\n\u001b[1;32m----> 3\u001b[0m     \u001b[38;5;28;01mraise\u001b[39;00m UserNotFoundError\n",
      "\u001b[1;31mUserNotFoundError\u001b[0m: "
     ]
    }
   ],
   "source": [
    "class UserNotFoundError(Exception):\n",
    "    pass\n",
    "    raise UserNotFoundError\n",
    "    \n",
    "def get_error(user_id):\n",
    "    try:\n",
    "        pass\n",
    "            \n",
    "\n",
    "    except UserNotFoundError as ex:\n",
    "        print(ex)\n",
    "        print(\"Not found\")\n",
    "get_error(1)\n"
   ]
  },
  {
   "cell_type": "markdown",
   "id": "7944b181-27ee-4be5-8351-1e09a80524fc",
   "metadata": {},
   "source": [
    "## Assert \n",
    "   ### assert condition,message"
   ]
  },
  {
   "cell_type": "code",
   "execution_count": null,
   "id": "9875a884-a91d-4ca5-9324-08e5756fb26e",
   "metadata": {},
   "outputs": [],
   "source": []
  }
 ],
 "metadata": {
  "kernelspec": {
   "display_name": "Python 3 (ipykernel)",
   "language": "python",
   "name": "python3"
  },
  "language_info": {
   "codemirror_mode": {
    "name": "ipython",
    "version": 3
   },
   "file_extension": ".py",
   "mimetype": "text/x-python",
   "name": "python",
   "nbconvert_exporter": "python",
   "pygments_lexer": "ipython3",
   "version": "3.12.1"
  }
 },
 "nbformat": 4,
 "nbformat_minor": 5
}
