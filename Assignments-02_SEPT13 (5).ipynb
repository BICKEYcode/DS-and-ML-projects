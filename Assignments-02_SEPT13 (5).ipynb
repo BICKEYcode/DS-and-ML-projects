{
 "cells": [
  {
   "cell_type": "markdown",
   "metadata": {},
   "source": [
    "### Coding Scenario: Personal Profile and Preferences\n",
    "\n",
    "**Objective:** You are tasked with creating a Python script to represent and process personal profile information and preferences. This scenario will test your knowledge of strings, integers, lists, tuples, dictionaries, and boolean data types in Python.\n",
    "\n",
    "#### Scenario Description:\n",
    "\n",
    "Imagine you are designing a simple profile for a social media application. Each user profile contains basic personal information, a list of favorite hobbies, preferred screen dimensions for viewing the app, and a brief description of their pet.\n"
   ]
  },
  {
   "cell_type": "code",
   "execution_count": null,
   "metadata": {
    "vscode": {
     "languageId": "plaintext"
    }
   },
   "outputs": [],
   "source": [
    "\n",
    "#### Task Instructions:\n",
    "\n",
    "1. **Personal Information**\n",
    "   - Create a variable `name` (str) to store the user's name.\n",
    "   - Create a variable `age` (int) to store the user's age.\n",
    "   - Print a greeting message using these variables, e.g., `\"Hello, my name is Alice and I am 30 years old.\"`\n"
   ]
  },
  {
   "cell_type": "code",
   "execution_count": 1,
   "metadata": {},
   "outputs": [
    {
     "name": "stdin",
     "output_type": "stream",
     "text": [
      "Please enter your name:  bickey\n",
      "Please Enter Your age 25\n"
     ]
    },
    {
     "name": "stdout",
     "output_type": "stream",
     "text": [
      "Hello, my name is bickey and I am 25 years old.\n"
     ]
    }
   ],
   "source": [
    "\n",
    "name = input(\"Please enter your name: \")\n",
    "age = int(input(\"Please Enter Your age\"))        \n",
    "greeting_message = f\"Hello, my name is {name} and I am {age} years old.\"\n",
    "print(greeting_message)"
   ]
  },
  {
   "cell_type": "markdown",
   "metadata": {},
   "source": [
    "2. **Favorite Hobbies**\n",
    "   - Create a list `favorite_hobbies` containing at least three hobbies as strings.\n",
    "   - Add another hobby to this list and print the updated list."
   ]
  },
  {
   "cell_type": "code",
   "execution_count": 2,
   "metadata": {},
   "outputs": [
    {
     "name": "stdout",
     "output_type": "stream",
     "text": [
      "['Swimming', 'Reading', 'Drawing', 'Dancing']\n"
     ]
    }
   ],
   "source": [
    "favorite_hobbies = [\"Swimming\", \"Reading\", \"Drawing\"]\n",
    "favorite_hobbies.append(\"Dancing\")\n",
    "print(favorite_hobbies)\n",
    "\n"
   ]
  },
  {
   "cell_type": "markdown",
   "metadata": {},
   "source": [
    "3. **Screen Dimensions**\n",
    "   - Define a tuple `screen_dimensions` with two integers representing the width and height of the user's preferred screen size for the app.\n",
    "   - Attempt to modify one of the values in the tuple to simulate an attempt to change screen preferences and comment on the outcome."
   ]
  },
  {
   "cell_type": "code",
   "execution_count": 3,
   "metadata": {},
   "outputs": [
    {
     "ename": "TypeError",
     "evalue": "'tuple' object does not support item assignment",
     "output_type": "error",
     "traceback": [
      "\u001b[1;31m---------------------------------------------------------------------------\u001b[0m",
      "\u001b[1;31mTypeError\u001b[0m                                 Traceback (most recent call last)",
      "Cell \u001b[1;32mIn[3], line 2\u001b[0m\n\u001b[0;32m      1\u001b[0m screen_dimensions \u001b[38;5;241m=\u001b[39m (\u001b[38;5;241m1920\u001b[39m, \u001b[38;5;241m1080\u001b[39m)\n\u001b[1;32m----> 2\u001b[0m \u001b[43mscreen_dimensions\u001b[49m\u001b[43m[\u001b[49m\u001b[38;5;241;43m0\u001b[39;49m\u001b[43m]\u001b[49m \u001b[38;5;241m=\u001b[39m \u001b[38;5;241m2560\u001b[39m \n\u001b[0;32m      3\u001b[0m \u001b[38;5;28mprint\u001b[39m(\u001b[38;5;124m\"\u001b[39m\u001b[38;5;124mScreen dimensions:\u001b[39m\u001b[38;5;124m\"\u001b[39m, screen_dimensions)\n",
      "\u001b[1;31mTypeError\u001b[0m: 'tuple' object does not support item assignment"
     ]
    }
   ],
   "source": [
    "screen_dimensions = (1920, 1080)\n",
    "screen_dimensions[0] = 2560 \n",
    "print(\"Screen dimensions:\", screen_dimensions)\n",
    "\n"
   ]
  },
  {
   "cell_type": "markdown",
   "metadata": {},
   "source": [
    "4. **Pet Description**\n",
    "   - Create a dictionary `pet` to describe the user's pet. It should include keys for `type`, `name`, `age`, and later, `color`.\n",
    "   - Add a `color` key to the `pet` dictionary with an appropriate value and print the pet's name and color."
   ]
  },
  {
   "cell_type": "code",
   "execution_count": 4,
   "metadata": {},
   "outputs": [
    {
     "name": "stdout",
     "output_type": "stream",
     "text": [
      "Pet's Name: Buddy\n",
      "Pet's Color: white\n"
     ]
    }
   ],
   "source": [
    "pet = {\n",
    "    \"type\": \"dog\",\n",
    "    \"name\": \"Buddy\",\n",
    "    \"age\": 5\n",
    "    }\n",
    "\n",
    "pet[\"color\"] = \"white\"\n",
    "\n",
    "print(f\"Pet's Name: {pet['name']}\")\n",
    "print(f\"Pet's Color: {pet['color']}\")\n"
   ]
  },
  {
   "cell_type": "markdown",
   "metadata": {},
   "source": [
    "5. **Adult Status**\n",
    "   - Determine if the user is an adult with a boolean variable `is_adult`. Consider someone an adult if they are 18 years old or more.\n",
    "   - Using conditional logic, print `\"I am an adult.\"` if true, and `\"I am not an adult.\"` if false.\n"
   ]
  },
  {
   "cell_type": "code",
   "execution_count": 5,
   "metadata": {},
   "outputs": [
    {
     "name": "stdin",
     "output_type": "stream",
     "text": [
      "Please enter your age:  20\n"
     ]
    },
    {
     "name": "stdout",
     "output_type": "stream",
     "text": [
      "I am an adult.\n"
     ]
    }
   ],
   "source": [
    "user_age = int(input(\"Please enter your age: \"))\n",
    "\n",
    "if user_age >= 18:\n",
    "    print(\"I am an adult.\")\n",
    "else:\n",
    "    print(\"I am not an adult.\")"
   ]
  },
  {
   "cell_type": "markdown",
   "metadata": {},
   "source": [
    "### Question : Book Keeper\n",
    "\n",
    "Following the data below , complete the given Tasks :"
   ]
  },
  {
   "cell_type": "code",
   "execution_count": null,
   "metadata": {},
   "outputs": [],
   "source": [
    "# A list of tuples, where each tuple contains information about a book: (title, genre, year_published, times_borrowed).\n",
    "\n",
    "books = [\n",
    "    (\"The Alchemist\", \"Fiction\", 1988, 250),\n",
    "    (\"The Da Vinci Code\", \"Mystery\", 2003, 300),\n",
    "    (\"A Brief History of Time\", \"Science\", 1988, 150),\n",
    "    (\"The Theory of Everything\", \"Science\", 2002, 100),\n",
    "    (\"Pride and Prejudice\", \"Fiction\", 1813, 200),\n",
    "    (\"To Kill a Mockingbird\", \"Fiction\", 1960, 180),\n",
    "    (\"The Catcher in the Rye\", \"Fiction\", 1951, 220),\n",
    "    (\"Angels & Demons\", \"Mystery\", 2000, 210),\n",
    "    (\"The Grand Design\", \"Science\", 2010, 90),\n",
    "    (\"1984\", \"Fiction\", 1949, 190)\n",
    "]"
   ]
  },
  {
   "cell_type": "markdown",
   "metadata": {},
   "source": [
    "**Task 01**: Create a Book Filtering Function\n",
    "\n",
    "Given the list books as shown below, write a Python function named `filter_books` that filters books based on *genre* and *publication year*. The function should take two parameters: `genre (a string)` and `year (an integer)`. It should return a list of book titles that match the given genre and have been **published on or after** the specified year.\n",
    "\n",
    "- Example usage : `print(filter_books(\"Fiction\", 1980))`\n",
    "- Expected output: `['The Alchemist', 'The Catcher in the Rye']`\n",
    "\n",
    "*Try to use List Comprehension with If condition*"
   ]
  },
  {
   "cell_type": "code",
   "execution_count": 6,
   "metadata": {},
   "outputs": [
    {
     "name": "stdout",
     "output_type": "stream",
     "text": [
      "['A Brief History of Time']\n"
     ]
    }
   ],
   "source": [
    "books = [\n",
    "    {\"title\": \"The Alchemist\", \"genre\": \"Fiction\", \"year\": 1988},\n",
    "    {\"title\": \"The Da Vinci Code\", \"genre\": \"Mystery\", \"year\": 2003},\n",
    "    {\"title\": \"A Brief History of Time\", \"genre\": \"Science\", \"year\": 1988},\n",
    "    {\"title\": \"The Catcher in the Rye\", \"genre\": \"Fiction\", \"year\": 1951},\n",
    "    {\"title\": \"To Kill a Mockingbird\", \"genre\": \"Fiction\", \"year\": 1960},\n",
    "    {\"title\": \"The Great Gatsby\", \"genre\": \"Fiction\", \"year\": 1925},\n",
    "    {\"title\": \"Educated\", \"genre\": \"Memoir\", \"year\": 2018}\n",
    "]\n",
    "def filter_books(genre, year):\n",
    "    filtered_books = [book[\"title\"] for book in books if book[\"genre\"] == genre and book[\"year\"] >= year]\n",
    "    return filtered_books\n",
    "\n",
    "print(filter_books(\"Science\", 1980))\n",
    "\n",
    "\n",
    "\n"
   ]
  },
  {
   "cell_type": "markdown",
   "metadata": {},
   "source": [
    "**Task 02** : Write a Python function named `borrowing_stats` that uses dictionary comprehension to create and return a dictionary. This dictionary should map each book's title to the number of times it has been borrowed, but only include books from the \"`Fiction`\" genre.\n",
    "\n",
    "\n",
    "- Example usage : `print(borrowing_stats(books))`\n",
    "- Expected output: `{'The Alchemist': 250, 'Pride and Prejudice': 200, 'To Kill a Mockingbird': 180, 'The Catcher in the Rye': 220, '1984': 190}`"
   ]
  },
  {
   "cell_type": "code",
   "execution_count": 7,
   "metadata": {},
   "outputs": [],
   "source": [
    "def borrowing_stats(books):\n",
    "    fiction_borrowing_stats = {book[\"title\"]: book[\"borrowed\"] for book in books if book[\"genre\"] == \"Fiction\"}\n",
    "    return fiction_borrowing_stats\n",
    "\n",
    "\n"
   ]
  },
  {
   "cell_type": "markdown",
   "metadata": {},
   "source": [
    "**Task 03** : Write a Python program that uses a lambda expression to sort this list by publication year in ascending order. Print the sorted list of books.\n",
    "\n",
    "*Try using a lambda expression with the sorted() function*"
   ]
  },
  {
   "cell_type": "code",
   "execution_count": 8,
   "metadata": {},
   "outputs": [
    {
     "name": "stdout",
     "output_type": "stream",
     "text": [
      "{'title': 'The Great Gatsby', 'genre': 'Fiction', 'year': 1925}\n",
      "{'title': 'The Catcher in the Rye', 'genre': 'Fiction', 'year': 1951}\n",
      "{'title': 'To Kill a Mockingbird', 'genre': 'Fiction', 'year': 1960}\n",
      "{'title': 'The Alchemist', 'genre': 'Fiction', 'year': 1988}\n",
      "{'title': 'A Brief History of Time', 'genre': 'Science', 'year': 1988}\n",
      "{'title': 'The Da Vinci Code', 'genre': 'Mystery', 'year': 2003}\n",
      "{'title': 'Educated', 'genre': 'Memoir', 'year': 2018}\n"
     ]
    }
   ],
   "source": [
    "sorted_books = sorted(books, key=lambda book: book[\"year\"])\n",
    "\n",
    "\n",
    "for book in sorted_books:\n",
    "    print(book)"
   ]
  },
  {
   "cell_type": "code",
   "execution_count": null,
   "metadata": {},
   "outputs": [],
   "source": []
  },
  {
   "cell_type": "markdown",
   "metadata": {},
   "source": [
    "### Question: File Read and Write\n",
    "**Write a Program that Uses Functions `write_to_file` and `read_from_file`**:\n",
    "- `write_to_file(filename, content)`: Writes `content` to a file named `filename`. If the file doesn't exist, it should be created.\n",
    "- `read_from_file(filename)`: Reads and prints the content of a file named `filename`.\n",
    "Call `write_to_file` to write \"Hello, Python!\" to a file named \"greetings.txt\", then call `read_from_file` to read and print the content of this file."
   ]
  },
  {
   "cell_type": "code",
   "execution_count": null,
   "metadata": {},
   "outputs": [],
   "source": [
    "def write_to_file(filename,content=\"Hello, Python!\"):\n",
    "    file = open(file = filename ,mode = \"w\")\n",
    "    file.write(content)\n",
    "    file.close()\n",
    "\n",
    "write_to_file(\"hello.txt\")\n"
   ]
  },
  {
   "cell_type": "code",
   "execution_count": null,
   "metadata": {},
   "outputs": [],
   "source": [
    "def read_to_file(filename):\n",
    "    file=open(file=filename,mode='r')\n",
    "    content=file.content\n",
    "    file.close()\n",
    "    return "
   ]
  },
  {
   "cell_type": "markdown",
   "metadata": {},
   "source": [
    "### Scenario:\n",
    "\n",
    "You are tasked with designing a system for a **vehicle rental company**. The company rents out various types of vehicles like **Cars** and **Bikes**, and each vehicle has some shared characteristics but also some distinct ones. \n",
    "\n",
    "### Requirements:\n",
    "1. Each **Vehicle** has attributes such as:\n",
    "   - `vehicle_id`: A unique identifier for the vehicle.\n",
    "   - `brand`: The brand of the vehicle.\n",
    "   - `rental_price`: Price per day to rent the vehicle.\n",
    "\n",
    "2. Both **Car** and **Bike** are types of **Vehicles**.  \n",
    "   - A **Car** has an additional attribute: `number_of_doors`.  \n",
    "   - A **Bike** has an additional attribute: `bike_type` (e.g., mountain bike, racing bike).\n",
    "\n",
    "3. You should provide methods to:\n",
    "   - **Calculate total rental cost**: Given the number of rental days, calculate the total cost for any vehicle.\n",
    "   - **Display vehicle details**: For both cars and bikes, display details including the unique attributes (e.g., `number_of_doors` for cars, `bike_type` for bikes).\n",
    "\n",
    "4. Implement the following OOP concepts:\n",
    "   - **Encapsulation**: Ensure that all vehicle attributes are private and can only be accessed or modified through getter/setter methods.\n",
    "   - **Abstraction**: Provide a clean interface for calculating the total rental cost and displaying vehicle details, hiding the internal logic.\n",
    "   - **Inheritance**: Both **Car** and **Bike** should inherit common functionality from the **Vehicle** class.\n",
    "   - **Polymorphism**: Use method overriding so that the method for displaying vehicle details works differently for cars and bikes.\n",
    "\n",
    "---\n",
    "\n",
    "### Task:\n",
    "\n",
    "1. **Define a `Vehicle` base class** that implements the common attributes and methods.\n",
    "2. **Define two subclasses `Car` and `Bike`** that inherit from `Vehicle` and implement their specific attributes.\n",
    "3. Use encapsulation by making attributes private and providing public methods to interact with them.\n",
    "4. Use polymorphism to create a `display_details` method that behaves differently for `Car` and `Bike`.\n",
    "\n",
    "---\n",
    "\n",
    "### Bonus:\n",
    "After completing the classes, create an example script that:\n",
    "- Creates a list of vehicles (a mix of Cars and Bikes).\n",
    "- Displays the details of each vehicle.\n",
    "- Calculates and prints the total rental cost for a given number of days for each vehicle.\n"
   ]
  },
  {
   "cell_type": "code",
   "execution_count": 11,
   "metadata": {},
   "outputs": [
    {
     "name": "stdout",
     "output_type": "stream",
     "text": [
      "Car ID: C001, Brand: Toyota, Rental Price per Day: Rs30, Number of Doors: 4\n",
      "Total Rental Cost for 5 days: Rs150\n",
      "\n",
      "Bike ID: B001, Brand: Giant, Rental Price per Day: Rs15, Bike Type: Mountain\n",
      "Total Rental Cost for 5 days: Rs75\n",
      "\n"
     ]
    }
   ],
   "source": [
    "class Vehicle:\n",
    "    def __init__(self, vehicle_id, brand, rental_price):\n",
    "        self.__vehicle_id = vehicle_id\n",
    "        self.__brand = brand\n",
    "        self.__rental_price = rental_price\n",
    "\n",
    "    def calculate_total_rental_cost(self, days):\n",
    "        return self.__rental_price * days\n",
    "\n",
    "    def display_details(self):\n",
    "        raise NotImplementedError(\"Subclasses should implement this method.\")\n",
    "\n",
    "    def get_vehicle_id(self):\n",
    "        return self.__vehicle_id\n",
    "\n",
    "    def get_brand(self):\n",
    "        return self.__brand\n",
    "\n",
    "    def get_rental_price(self):\n",
    "        return self.__rental_price\n",
    "class Car(Vehicle):\n",
    "    def __init__(self, vehicle_id, brand, rental_price, number_of_doors):\n",
    "        super().__init__(vehicle_id, brand, rental_price)\n",
    "        self.__number_of_doors = number_of_doors\n",
    "\n",
    "    def display_details(self):\n",
    "        return (f\"Car ID: {self.get_vehicle_id()}, Brand: {self.get_brand()}, \"\n",
    "                f\"Rental Price per Day: Rs{self.get_rental_price()}, \"\n",
    "                f\"Number of Doors: {self.__number_of_doors}\")\n",
    "class Bike(Vehicle):\n",
    "    def __init__(self, vehicle_id, brand, rental_price, bike_type):\n",
    "        super().__init__(vehicle_id, brand, rental_price)\n",
    "        self.__bike_type = bike_type\n",
    "\n",
    "    def display_details(self):\n",
    "        return (f\"Bike ID: {self.get_vehicle_id()}, Brand: {self.get_brand()}, \"\n",
    "                f\"Rental Price per Day: Rs{self.get_rental_price()}, \"\n",
    "                f\"Bike Type: {self.__bike_type}\")\n",
    "\n",
    "car1 = Car(vehicle_id=\"C001\", brand=\"Toyota\", rental_price=30, number_of_doors=4)\n",
    "bike1 = Bike(vehicle_id=\"B001\", brand=\"Giant\", rental_price=15, bike_type=\"Mountain\")\n",
    "\n",
    "\n",
    "vehicles = [car1, bike1]\n",
    "\n",
    "\n",
    "days = 5\n",
    "for vehicle in vehicles:\n",
    "    print(vehicle.display_details())\n",
    "    print(f\"Total Rental Cost for {days} days: Rs{vehicle.calculate_total_rental_cost(days)}\")\n",
    "    print()  \n",
    "\n"
   ]
  },
  {
   "cell_type": "code",
   "execution_count": null,
   "metadata": {},
   "outputs": [],
   "source": []
  }
 ],
 "metadata": {
  "kernelspec": {
   "display_name": "Python 3 (ipykernel)",
   "language": "python",
   "name": "python3"
  },
  "language_info": {
   "codemirror_mode": {
    "name": "ipython",
    "version": 3
   },
   "file_extension": ".py",
   "mimetype": "text/x-python",
   "name": "python",
   "nbconvert_exporter": "python",
   "pygments_lexer": "ipython3",
   "version": "3.12.1"
  }
 },
 "nbformat": 4,
 "nbformat_minor": 4
}
