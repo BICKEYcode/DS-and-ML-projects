{
 "cells": [
  {
   "cell_type": "code",
   "execution_count": 1,
   "id": "ca6c3860-871b-438a-96e2-84aad21e38e5",
   "metadata": {},
   "outputs": [
    {
     "name": "stdout",
     "output_type": "stream",
     "text": [
      "current working directory: C:\\Users\\Hi\\Desktop\\MLprojects\\Bickey's code\\DS-and-ML-projects\n"
     ]
    }
   ],
   "source": [
    "import os\n",
    "cwd = os.getcwd()\n",
    "print(\"current working directory:\",cwd)"
   ]
  },
  {
   "cell_type": "code",
   "execution_count": 2,
   "id": "298eb346-d35e-45ff-8416-d5ec176a28d6",
   "metadata": {},
   "outputs": [],
   "source": [
    "if not os.path.exists(\"new_directory\"):\n",
    "    os.mkdir(\"new_directory\")"
   ]
  },
  {
   "cell_type": "code",
   "execution_count": 3,
   "id": "20f9950f-11e7-49cf-a3cd-588f1830ae5c",
   "metadata": {},
   "outputs": [
    {
     "name": "stdout",
     "output_type": "stream",
     "text": [
      "changed working directory: C:\\Users\\Hi\\Desktop\\MLprojects\\Bickey's code\\DS-and-ML-projects\\new_directory\n"
     ]
    }
   ],
   "source": [
    "os.chdir('new_directory')\n",
    "print(\"changed working directory:\",os.getcwd())"
   ]
  },
  {
   "cell_type": "code",
   "execution_count": 4,
   "id": "29f18498-16c7-4685-b77d-6e2af476c5d5",
   "metadata": {},
   "outputs": [
    {
     "name": "stdout",
     "output_type": "stream",
     "text": [
      "changed working directory: C:\\Users\\Hi\\Desktop\\MLprojects\\Bickey's code\\DS-and-ML-projects\n"
     ]
    }
   ],
   "source": [
    "os.chdir('..')\n",
    "print(\"changed working directory:\",os.getcwd())"
   ]
  },
  {
   "cell_type": "code",
   "execution_count": 10,
   "id": "dc8831a0-2d37-4e58-b939-f9a10ebbb7d8",
   "metadata": {},
   "outputs": [
    {
     "name": "stdout",
     "output_type": "stream",
     "text": [
      "0\n"
     ]
    }
   ],
   "source": [
    "output = os.system(\"ls\")\n",
    "print(output)\n"
   ]
  },
  {
   "cell_type": "code",
   "execution_count": null,
   "id": "89138fad-67a6-44da-9ffc-d1bbadd8478f",
   "metadata": {},
   "outputs": [],
   "source": [
    "Working with Environment Variable\n"
   ]
  },
  {
   "cell_type": "code",
   "execution_count": 11,
   "id": "c2b708dc-5f58-47a3-b7dd-55bc0e2f1b2c",
   "metadata": {},
   "outputs": [
    {
     "name": "stdout",
     "output_type": "stream",
     "text": [
      "the value of the :  C:\\Users\\Hi\n"
     ]
    }
   ],
   "source": [
    "import os\n",
    "value = os.getenv('HOME')\n",
    "print(\"the value of the : \",value)"
   ]
  },
  {
   "cell_type": "code",
   "execution_count": null,
   "id": "0f46498b-8b3d-4cf0-9aa4-b5471704e146",
   "metadata": {},
   "outputs": [],
   "source": [
    "python Math module "
   ]
  },
  {
   "cell_type": "code",
   "execution_count": 16,
   "id": "e05aafe7-4728-48a1-a1d8-d413a2cc1709",
   "metadata": {},
   "outputs": [
    {
     "name": "stdout",
     "output_type": "stream",
     "text": [
      "8.0\n",
      "3\n",
      "3\n"
     ]
    }
   ],
   "source": [
    "import math\n",
    "print(math.pow(2,3))\n",
    "print(math.ceil(3))\n",
    "print(math.floor(3))\n",
    "                  \n",
    "      "
   ]
  },
  {
   "cell_type": "code",
   "execution_count": 18,
   "id": "6dc9b244-976b-40ad-a351-0b9b4e10ef91",
   "metadata": {},
   "outputs": [
    {
     "name": "stdout",
     "output_type": "stream",
     "text": [
      "1.0\n"
     ]
    }
   ],
   "source": [
    "print(math.sin(math.pi/2))"
   ]
  },
  {
   "cell_type": "code",
   "execution_count": 20,
   "id": "4c1caa57-3267-4cdc-b80d-921de42e5e11",
   "metadata": {},
   "outputs": [
    {
     "name": "stdout",
     "output_type": "stream",
     "text": [
      "5.0\n"
     ]
    }
   ],
   "source": [
    "print(math.hypot(3,4))"
   ]
  },
  {
   "cell_type": "code",
   "execution_count": 21,
   "id": "f86233ee-5eae-4880-b437-26cbebdee8a5",
   "metadata": {},
   "outputs": [
    {
     "name": "stdout",
     "output_type": "stream",
     "text": [
      "3.141592653589793\n"
     ]
    }
   ],
   "source": [
    "print(math.radians(180))"
   ]
  },
  {
   "cell_type": "code",
   "execution_count": 24,
   "id": "40012500-d59d-4b1e-9e8c-853f8953189d",
   "metadata": {},
   "outputs": [
    {
     "name": "stdout",
     "output_type": "stream",
     "text": [
      "7.38905609893065\n",
      "0.6931471805599453\n",
      "0.3010299956639812\n"
     ]
    }
   ],
   "source": [
    "import math\n",
    "print(math.exp(2))\n",
    "print(math.log(2))\n",
    "print(math.log10(2))"
   ]
  },
  {
   "cell_type": "code",
   "execution_count": 25,
   "id": "3812b292-2221-4f04-8d78-7b8668c7995a",
   "metadata": {},
   "outputs": [
    {
     "name": "stdout",
     "output_type": "stream",
     "text": [
      "inf\n"
     ]
    }
   ],
   "source": [
    "import math\n",
    "print(math.inf)"
   ]
  },
  {
   "cell_type": "code",
   "execution_count": 27,
   "id": "67743e29-2924-4e60-b879-13d23d94aa0e",
   "metadata": {},
   "outputs": [
    {
     "name": "stdout",
     "output_type": "stream",
     "text": [
      "6\n",
      "10\n",
      "0\n"
     ]
    }
   ],
   "source": [
    "import math\n",
    "print(math.factorial(3))\n",
    "print(math.comb(5,3))\n",
    "print(math.perm(3,4))"
   ]
  },
  {
   "cell_type": "code",
   "execution_count": 28,
   "id": "8026d390-d85b-4ab7-8571-83de915bc9c9",
   "metadata": {},
   "outputs": [
    {
     "data": {
      "text/plain": [
       "['__doc__',\n",
       " '__loader__',\n",
       " '__name__',\n",
       " '__package__',\n",
       " '__spec__',\n",
       " 'acos',\n",
       " 'acosh',\n",
       " 'asin',\n",
       " 'asinh',\n",
       " 'atan',\n",
       " 'atan2',\n",
       " 'atanh',\n",
       " 'cbrt',\n",
       " 'ceil',\n",
       " 'comb',\n",
       " 'copysign',\n",
       " 'cos',\n",
       " 'cosh',\n",
       " 'degrees',\n",
       " 'dist',\n",
       " 'e',\n",
       " 'erf',\n",
       " 'erfc',\n",
       " 'exp',\n",
       " 'exp2',\n",
       " 'expm1',\n",
       " 'fabs',\n",
       " 'factorial',\n",
       " 'floor',\n",
       " 'fmod',\n",
       " 'frexp',\n",
       " 'fsum',\n",
       " 'gamma',\n",
       " 'gcd',\n",
       " 'hypot',\n",
       " 'inf',\n",
       " 'isclose',\n",
       " 'isfinite',\n",
       " 'isinf',\n",
       " 'isnan',\n",
       " 'isqrt',\n",
       " 'lcm',\n",
       " 'ldexp',\n",
       " 'lgamma',\n",
       " 'log',\n",
       " 'log10',\n",
       " 'log1p',\n",
       " 'log2',\n",
       " 'modf',\n",
       " 'nan',\n",
       " 'nextafter',\n",
       " 'perm',\n",
       " 'pi',\n",
       " 'pow',\n",
       " 'prod',\n",
       " 'radians',\n",
       " 'remainder',\n",
       " 'sin',\n",
       " 'sinh',\n",
       " 'sqrt',\n",
       " 'sumprod',\n",
       " 'tan',\n",
       " 'tanh',\n",
       " 'tau',\n",
       " 'trunc',\n",
       " 'ulp']"
      ]
     },
     "execution_count": 28,
     "metadata": {},
     "output_type": "execute_result"
    }
   ],
   "source": [
    "dir(math)"
   ]
  },
  {
   "cell_type": "code",
   "execution_count": null,
   "id": "641ddfb3-8c99-4f7e-ad8c-48b536b2a44b",
   "metadata": {},
   "outputs": [],
   "source": [
    "Random Numbers\n"
   ]
  },
  {
   "cell_type": "code",
   "execution_count": 41,
   "id": "e1e17d91-3be8-4232-abf4-d1d406f75d03",
   "metadata": {},
   "outputs": [
    {
     "name": "stdout",
     "output_type": "stream",
     "text": [
      "0.1113943152684278\n",
      "5\n",
      "1.0706874266196702\n",
      "12\n"
     ]
    }
   ],
   "source": [
    "import random\n",
    "print(random.random())\n",
    "print(random.randint(-1,5))\n",
    "print(random.uniform(-1,2))\n",
    "print(random.randrange(start=2,stop=20,step=5))"
   ]
  },
  {
   "cell_type": "code",
   "execution_count": 45,
   "id": "f9c571fe-1f5b-4e11-b3e7-5c224b0d487d",
   "metadata": {},
   "outputs": [
    {
     "name": "stdout",
     "output_type": "stream",
     "text": [
      "queen\n",
      "['queen', 'ace', 'jack']\n",
      "['queen', 'jack', 'ace', 'king']\n"
     ]
    }
   ],
   "source": [
    "import random\n",
    "cards = ['ace','king','queen','jack']\n",
    "print(random.choice(cards))\n",
    "print(random.sample(cards,3))\n",
    "random.shuffle(cards)\n",
    "print(cards)"
   ]
  },
  {
   "cell_type": "code",
   "execution_count": 46,
   "id": "ef1091cc-4159-4362-8e90-e99fc1d0dfc9",
   "metadata": {},
   "outputs": [
    {
     "name": "stdout",
     "output_type": "stream",
     "text": [
      "2\n",
      "7.5603054046710225\n"
     ]
    }
   ],
   "source": [
    "import random\n",
    "state = random.getstate()\n",
    "print(random.randint(2,5))\n",
    "print(random.uniform(3,8))"
   ]
  },
  {
   "cell_type": "code",
   "execution_count": 47,
   "id": "abc433e0-9acc-4731-a194-e80d18e26d18",
   "metadata": {},
   "outputs": [
    {
     "name": "stdout",
     "output_type": "stream",
     "text": [
      "2\n",
      "7.5603054046710225\n"
     ]
    }
   ],
   "source": [
    "random.setstate(state)\n",
    "print(random.randint(2,5))\n",
    "print(random.uniform(3,8))"
   ]
  },
  {
   "cell_type": "code",
   "execution_count": 53,
   "id": "1455c355-157b-4213-b473-0d7b4530630f",
   "metadata": {},
   "outputs": [
    {
     "name": "stdout",
     "output_type": "stream",
     "text": [
      "3\n"
     ]
    }
   ],
   "source": [
    "random.seed(100,version=2)\n",
    "print(random.randint(1,10))"
   ]
  },
  {
   "cell_type": "code",
   "execution_count": null,
   "id": "f45313ec-7337-4a1e-a29d-89d47ad405d2",
   "metadata": {},
   "outputs": [],
   "source": [
    "How to define your own package\n",
    "\n",
    "__init__.py\n",
    "module "
   ]
  },
  {
   "cell_type": "code",
   "execution_count": null,
   "id": "7192a9d3-928f-47c0-a724-b74a192fa6dd",
   "metadata": {},
   "outputs": [],
   "source": []
  }
 ],
 "metadata": {
  "kernelspec": {
   "display_name": "Python 3 (ipykernel)",
   "language": "python",
   "name": "python3"
  },
  "language_info": {
   "codemirror_mode": {
    "name": "ipython",
    "version": 3
   },
   "file_extension": ".py",
   "mimetype": "text/x-python",
   "name": "python",
   "nbconvert_exporter": "python",
   "pygments_lexer": "ipython3",
   "version": "3.12.1"
  }
 },
 "nbformat": 4,
 "nbformat_minor": 5
}
