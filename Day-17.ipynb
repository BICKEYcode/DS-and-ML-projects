{
 "cells": [
  {
   "cell_type": "markdown",
   "id": "624b5862-f4b6-4ea5-bdb4-31ba444882a9",
   "metadata": {},
   "source": [
    "## Custom Exception: \n",
    "\n",
    "Define a custom exception NegativeNumberError. Write a function sqrt_of_number that calculates the square root of a number but raises NegativeNumberError if the input is a negative number.\n"
   ]
  },
  {
   "cell_type": "code",
   "execution_count": 12,
   "id": "aefd67b5-f3ff-45a8-a37f-a99bb50c8824",
   "metadata": {},
   "outputs": [
    {
     "name": "stdout",
     "output_type": "stream",
     "text": [
      "square root:  2.23606797749979\n"
     ]
    }
   ],
   "source": [
    "from math import sqrt\n",
    "class NegativeNumberError(Exception):\n",
    "    pass\n",
    "\n",
    "def sqrt_of_number(x):\n",
    "            if x < 0:\n",
    "                raise NegativeNumberError (\"Square of Negative number is imaginary,Cannot calculate\")\n",
    "            return sqrt(x)\n",
    "            \n",
    "try:\n",
    "    print(f\"square root:  {sqrt_of_number(5)}\" )\n",
    "except NegativeNumberError as error:\n",
    "     print(error)"
   ]
  },
  {
   "cell_type": "markdown",
   "id": "3f0ec078-041d-4d97-a3c3-7a4d92eefccf",
   "metadata": {},
   "source": [
    "# Python Decorators"
   ]
  },
  {
   "cell_type": "code",
   "execution_count": 14,
   "id": "837828f8-2e63-45d5-8cb9-677b422944dc",
   "metadata": {},
   "outputs": [
    {
     "name": "stdout",
     "output_type": "stream",
     "text": [
      "before function execution\n",
      "hello bickey\n",
      "after function execution\n"
     ]
    }
   ],
   "source": [
    "def my_decorator(func):\n",
    "    def wrapper():\n",
    "        print(\"before function execution\")\n",
    "        func()\n",
    "        print(\"after function execution\")\n",
    "    return wrapper\n",
    "@my_decorator\n",
    "def say_hello():\n",
    "    print(\"hello bickey\")\n",
    "\n",
    "say_hello()\n",
    "        "
   ]
  },
  {
   "cell_type": "code",
   "execution_count": 15,
   "id": "2b583fb6-d0c0-407d-82a1-c97f9b171dc3",
   "metadata": {},
   "outputs": [],
   "source": [
    "def validate_email(func):\n",
    "    def wrapper(user_email):\n",
    "        if user_email.endswith(\"vrit.com\"):\n",
    "            func(user_email)\n",
    "        else:\n",
    "            print(\"only vrit client are supported\")\n",
    "    return wrapper\n",
    "\n",
    "@validate_email\n",
    "def get_data(email):\n",
    "    print(\"accessible\")\n",
    "    print(f\" Data fetched by {email}\")\n",
    "    \n",
    "        \n",
    "        "
   ]
  },
  {
   "cell_type": "code",
   "execution_count": 16,
   "id": "9b83c387-35be-4ef8-b964-100fdcfb841d",
   "metadata": {},
   "outputs": [
    {
     "name": "stdout",
     "output_type": "stream",
     "text": [
      "only vrit client are supported\n"
     ]
    }
   ],
   "source": [
    "get_data(\"bickey@gmail.com\")"
   ]
  },
  {
   "cell_type": "code",
   "execution_count": 17,
   "id": "ad44fdbf-9cd6-4310-bc3f-e6c6f2b5b46a",
   "metadata": {},
   "outputs": [
    {
     "name": "stdout",
     "output_type": "stream",
     "text": [
      "accessible\n",
      " Data fetched by bickey@vrit.com\n"
     ]
    }
   ],
   "source": [
    "get_data(\"bickey@vrit.com\")"
   ]
  },
  {
   "cell_type": "code",
   "execution_count": 38,
   "id": "69bb2acb-e7fb-4608-97f5-427eb78148f8",
   "metadata": {},
   "outputs": [
    {
     "name": "stdout",
     "output_type": "stream",
     "text": [
      "accessible\n",
      " Data fetched by bickey@vri.com\n",
      " Time taken : 2.001215696334839 seconds\n"
     ]
    }
   ],
   "source": [
    "import time \n",
    "def time_it(func):\n",
    "    def wrapper(res):\n",
    "        st = time.time()\n",
    "        result = func(res)\n",
    "        et = time.time()\n",
    "        print(f\" Time taken : {et - st } seconds\")\n",
    "        return result\n",
    "\n",
    "    return wrapper\n",
    "@time_it\n",
    "def get_data(email):\n",
    "    time.sleep(2)\n",
    "    print(\"accessible\")\n",
    "    print(f\" Data fetched by {email}\")\n",
    "get_data(\"bickey@vri.com\")"
   ]
  },
  {
   "cell_type": "code",
   "execution_count": null,
   "id": "0a39f6b9-3d70-43af-9fba-7ae34cadbed0",
   "metadata": {},
   "outputs": [],
   "source": [
    "def fibonacci(n: int):\n",
    "    if "
   ]
  },
  {
   "cell_type": "code",
   "execution_count": null,
   "id": "16b78da0-9398-4a68-9698-3197c7c6ceed",
   "metadata": {},
   "outputs": [],
   "source": []
  },
  {
   "cell_type": "code",
   "execution_count": null,
   "id": "d9276409-69fe-49d5-b6cd-5b4c66a81d5f",
   "metadata": {},
   "outputs": [],
   "source": []
  }
 ],
 "metadata": {
  "kernelspec": {
   "display_name": "Python 3 (ipykernel)",
   "language": "python",
   "name": "python3"
  },
  "language_info": {
   "codemirror_mode": {
    "name": "ipython",
    "version": 3
   },
   "file_extension": ".py",
   "mimetype": "text/x-python",
   "name": "python",
   "nbconvert_exporter": "python",
   "pygments_lexer": "ipython3",
   "version": "3.12.1"
  }
 },
 "nbformat": 4,
 "nbformat_minor": 5
}
