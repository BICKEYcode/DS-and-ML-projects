{
 "cells": [
  {
   "cell_type": "markdown",
   "id": "91f2c54e-e5c5-45b2-9d33-c1fd180e8718",
   "metadata": {},
   "source": [
    "# Regular Expression"
   ]
  },
  {
   "cell_type": "code",
   "execution_count": 1,
   "id": "acf5d90c-c252-494f-ba3b-cb06e984bf88",
   "metadata": {},
   "outputs": [
    {
     "name": "stdout",
     "output_type": "stream",
     "text": [
      "True\n"
     ]
    }
   ],
   "source": [
    "import re\n",
    "string = \"hello bickey\"\n",
    "pattern = r'he'\n",
    "match = re.search(pattern,string)\n",
    "print (pattern in string)"
   ]
  },
  {
   "cell_type": "code",
   "execution_count": 4,
   "id": "650f5d5d-6628-48d0-a24a-a97c6b7028d2",
   "metadata": {},
   "outputs": [
    {
     "data": {
      "text/plain": [
       "True"
      ]
     },
     "execution_count": 4,
     "metadata": {},
     "output_type": "execute_result"
    }
   ],
   "source": [
    "bool (match)"
   ]
  },
  {
   "cell_type": "code",
   "execution_count": null,
   "id": "ee3549c2-6bbc-47a8-ab55-3c71f5b8ac88",
   "metadata": {},
   "outputs": [],
   "source": [
    "re.findall(pattern,string)"
   ]
  },
  {
   "cell_type": "code",
   "execution_count": null,
   "id": "898244e1-1b07-451e-9045-c252bfd491c3",
   "metadata": {},
   "outputs": [],
   "source": [
    "re.match(pattern,string)"
   ]
  },
  {
   "cell_type": "code",
   "execution_count": null,
   "id": "8a768c76-c464-4b8d-a0d7-b5d3483d25f1",
   "metadata": {},
   "outputs": [],
   "source": [
    "re.sub(pattern,string)"
   ]
  },
  {
   "cell_type": "code",
   "execution_count": null,
   "id": "f2e7ef5f-1a1d-43b3-a775-b11f8dc4c0dd",
   "metadata": {},
   "outputs": [],
   "source": [
    "re.findall(pattern,string)\n"
   ]
  },
  {
   "cell_type": "code",
   "execution_count": 5,
   "id": "c3353385-cc51-44ba-ab27-2ee2bc99b8b4",
   "metadata": {},
   "outputs": [
    {
     "data": {
      "text/plain": [
       "['A',\n",
       " 'ASCII',\n",
       " 'DEBUG',\n",
       " 'DOTALL',\n",
       " 'I',\n",
       " 'IGNORECASE',\n",
       " 'L',\n",
       " 'LOCALE',\n",
       " 'M',\n",
       " 'MULTILINE',\n",
       " 'Match',\n",
       " 'NOFLAG',\n",
       " 'Pattern',\n",
       " 'RegexFlag',\n",
       " 'S',\n",
       " 'Scanner',\n",
       " 'T',\n",
       " 'TEMPLATE',\n",
       " 'U',\n",
       " 'UNICODE',\n",
       " 'VERBOSE',\n",
       " 'X',\n",
       " '_MAXCACHE',\n",
       " '_MAXCACHE2',\n",
       " '__all__',\n",
       " '__builtins__',\n",
       " '__cached__',\n",
       " '__doc__',\n",
       " '__file__',\n",
       " '__loader__',\n",
       " '__name__',\n",
       " '__package__',\n",
       " '__path__',\n",
       " '__spec__',\n",
       " '__version__',\n",
       " '_cache',\n",
       " '_cache2',\n",
       " '_casefix',\n",
       " '_compile',\n",
       " '_compile_template',\n",
       " '_compiler',\n",
       " '_constants',\n",
       " '_parser',\n",
       " '_pickle',\n",
       " '_special_chars_map',\n",
       " '_sre',\n",
       " 'compile',\n",
       " 'copyreg',\n",
       " 'enum',\n",
       " 'error',\n",
       " 'escape',\n",
       " 'findall',\n",
       " 'finditer',\n",
       " 'fullmatch',\n",
       " 'functools',\n",
       " 'match',\n",
       " 'purge',\n",
       " 'search',\n",
       " 'split',\n",
       " 'sub',\n",
       " 'subn',\n",
       " 'template']"
      ]
     },
     "execution_count": 5,
     "metadata": {},
     "output_type": "execute_result"
    }
   ],
   "source": [
    "dir(re)"
   ]
  },
  {
   "cell_type": "code",
   "execution_count": null,
   "id": "a70ea69a-4a00-40d8-9a73-fe6af4c2a4dd",
   "metadata": {},
   "outputs": [],
   "source": []
  }
 ],
 "metadata": {
  "kernelspec": {
   "display_name": "Python 3 (ipykernel)",
   "language": "python",
   "name": "python3"
  },
  "language_info": {
   "codemirror_mode": {
    "name": "ipython",
    "version": 3
   },
   "file_extension": ".py",
   "mimetype": "text/x-python",
   "name": "python",
   "nbconvert_exporter": "python",
   "pygments_lexer": "ipython3",
   "version": "3.12.1"
  }
 },
 "nbformat": 4,
 "nbformat_minor": 5
}
