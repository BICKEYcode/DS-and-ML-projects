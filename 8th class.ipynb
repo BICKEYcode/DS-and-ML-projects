{
 "cells": [
  {
   "cell_type": "code",
   "execution_count": 1,
   "id": "b9a4fb54-9dc0-42b7-a43c-ab8a1dab859f",
   "metadata": {},
   "outputs": [
    {
     "data": {
      "text/plain": [
       "7"
      ]
     },
     "execution_count": 1,
     "metadata": {},
     "output_type": "execute_result"
    }
   ],
   "source": [
    "def add_numbers(num1,num2):\n",
    "    total = num1 + num2\n",
    "    return total\n",
    "add_numbers(5,2)"
   ]
  },
  {
   "cell_type": "code",
   "execution_count": 2,
   "id": "9b5ad007-7e2c-49e7-bd85-200f7ce1e7ef",
   "metadata": {},
   "outputs": [
    {
     "name": "stdout",
     "output_type": "stream",
     "text": [
      "hello,Alice!\n"
     ]
    }
   ],
   "source": [
    "def greet(name, greeting = 'hello'):\n",
    "          message =f\"{greeting},{name}!\"\n",
    "          return message\n",
    "print(greet('Alice'))"
   ]
  },
  {
   "cell_type": "code",
   "execution_count": 3,
   "id": "834630af-76a7-48e0-9456-90577984d483",
   "metadata": {},
   "outputs": [
    {
     "name": "stdout",
     "output_type": "stream",
     "text": [
      "name = ram\n",
      "age = 20\n"
     ]
    }
   ],
   "source": [
    " def my_printer(**kwargs):\n",
    "     for key, value in kwargs.items():\n",
    "         print(key, \"=\",value)\n",
    "result = my_printer(name=\"ram\",age=20)"
   ]
  },
  {
   "cell_type": "code",
   "execution_count": 5,
   "id": "527722df-cf00-4851-91f7-5c363f214984",
   "metadata": {},
   "outputs": [
    {
     "name": "stdout",
     "output_type": "stream",
     "text": [
      "2.0\n"
     ]
    }
   ],
   "source": [
    "def mean_error(*error):\n",
    "    total = sum(error)\n",
    "    mean = total / len(error)\n",
    "    return mean\n",
    "print(\n",
    "    mean_error(2,2,2,2)\n",
    ")\n"
   ]
  },
  {
   "cell_type": "code",
   "execution_count": 6,
   "id": "b49aec76-4fea-4a3b-a204-ac716e4aede0",
   "metadata": {},
   "outputs": [
    {
     "data": {
      "text/plain": [
       "{'LR': 'linear_4000'}"
      ]
     },
     "execution_count": 6,
     "metadata": {},
     "output_type": "execute_result"
    }
   ],
   "source": [
    "def create_model(name,**kwargs):\n",
    "    model_name = name \n",
    "    model_size = kwargs['size']\n",
    "    model_type = kwargs.get('type','linear')\n",
    "    return {model_name : f\"{model_type}_{model_size}\"}\n",
    "create_model(\"LR\" ,size =4000,shape = (22,33,44))"
   ]
  },
  {
   "cell_type": "code",
   "execution_count": 16,
   "id": "7c716ae8-2f88-4566-bce4-a145bb0c4a04",
   "metadata": {},
   "outputs": [
    {
     "data": {
      "text/plain": [
       "9"
      ]
     },
     "execution_count": 16,
     "metadata": {},
     "output_type": "execute_result"
    }
   ],
   "source": [
    "def power(base,exp = 2) -> :\n",
    "    \"\"\"\n",
    "    The function will return 'base'\n",
    "    parameter:\n",
    "    -----------\n",
    "    base : int \n",
    "           number that will increase by exp\n",
    "    exp : int , default = 2\n",
    "            exp power raised to base\n",
    "\n",
    "    \"\"\" \n",
    "\n",
    "    res= base ** exp\n",
    "    return res\n",
    "power(3,2)\n",
    "    "
   ]
  },
  {
   "cell_type": "code",
   "execution_count": null,
   "id": "9e9b329f-c1ae-40f5-98f0-598811f9fe3c",
   "metadata": {},
   "outputs": [],
   "source": []
  }
 ],
 "metadata": {
  "kernelspec": {
   "display_name": "Python 3 (ipykernel)",
   "language": "python",
   "name": "python3"
  },
  "language_info": {
   "codemirror_mode": {
    "name": "ipython",
    "version": 3
   },
   "file_extension": ".py",
   "mimetype": "text/x-python",
   "name": "python",
   "nbconvert_exporter": "python",
   "pygments_lexer": "ipython3",
   "version": "3.12.1"
  }
 },
 "nbformat": 4,
 "nbformat_minor": 5
}
